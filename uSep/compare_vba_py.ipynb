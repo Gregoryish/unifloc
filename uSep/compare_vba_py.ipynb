{
 "cells": [
  {
   "cell_type": "markdown",
   "metadata": {},
   "source": [
    "Проверка, пример использования функций сепарации, и сравнение с результатами UniflocVBA 7.4"
   ]
  },
  {
   "cell_type": "markdown",
   "metadata": {},
   "source": [
    "При импорте модуля автоматический запускается тест на наличие ошибок\n",
    "\n",
    "(В дальнейшей нужно осуществить переход на unittest)"
   ]
  },
  {
   "cell_type": "code",
   "execution_count": 10,
   "metadata": {},
   "outputs": [],
   "source": [
    "import sys\n",
    "sys.path.append('../')\n",
    "import uPVT.PVT as PVT\n",
    "import math\n",
    "import matplotlib.pyplot as plt\n",
    "import pandas as pd\n",
    "import uSep.separation as sp"
   ]
  },
  {
   "cell_type": "markdown",
   "metadata": {},
   "source": [
    "Чтение данных, посчитанных с UniflocVBA 7.4"
   ]
  },
  {
   "cell_type": "code",
   "execution_count": 11,
   "metadata": {},
   "outputs": [],
   "source": [
    "data = pd.read_excel('SepTestData.xlsx')"
   ]
  },
  {
   "cell_type": "markdown",
   "metadata": {},
   "source": [
    "Исходные данные, одинаковы и для python, и для vba"
   ]
  },
  {
   "cell_type": "code",
   "execution_count": 12,
   "metadata": {},
   "outputs": [],
   "source": [
    "pintake_atm=80\n",
    "wct_perc=22\n",
    "tintake_c=80\n",
    "dintake_mm=100\n",
    "dcasing_mm=125\n",
    "gammagas=0.9\n",
    "gammaoil=0.75\n",
    "gammawater=1\n",
    "rsb_m3m3=80\n",
    "rp_m3m3=80\n",
    "pb_atm=150\n",
    "tres_c=120\n",
    "bob_m3m3=1\n",
    "sepgassep=0.50"
   ]
  },
  {
   "cell_type": "markdown",
   "metadata": {},
   "source": [
    "Задание PVT свойств по Стендингу, необходимых для расчета"
   ]
  },
  {
   "cell_type": "code",
   "execution_count": 13,
   "metadata": {},
   "outputs": [
    {
     "data": {
      "text/plain": [
       "1"
      ]
     },
     "execution_count": 13,
     "metadata": {},
     "output_type": "execute_result"
    }
   ],
   "source": [
    "fluid=PVT.FluidStanding(gammaoil,gammagas,gammawater,rsb_m3m3)\n",
    "fluid.calc(pintake_atm,tintake_c)"
   ]
  },
  {
   "cell_type": "markdown",
   "metadata": {},
   "source": [
    "Вывод посчитанных значений PVT"
   ]
  },
  {
   "cell_type": "code",
   "execution_count": 14,
   "metadata": {},
   "outputs": [
    {
     "name": "stdout",
     "output_type": "stream",
     "text": [
      "100  -  dintake_mm\n",
      "125  -  dcasing_mm\n",
      "1.9522964869459403  -  bo_m3m3\n",
      "0.012673883940723262  -  bg_m3m3\n",
      "0.0  -  sigma_oil_Nm\n",
      "750.0  -  rho_oil_stkgm3\n",
      "1.1025  -  rho_gas_sckgm3\n",
      "22  -  wct_perc\n"
     ]
    }
   ],
   "source": [
    "def out(number,string):\n",
    "    space=' - '\n",
    "    print(str(number),space,string)\n",
    "out(dintake_mm,'dintake_mm')\n",
    "out(dcasing_mm,'dcasing_mm')\n",
    "out(fluid.bo_m3m3,'bo_m3m3')\n",
    "out(fluid.bg_m3m3,'bg_m3m3')\n",
    "out(fluid.sigma_oil_Nm,'sigma_oil_Nm')\n",
    "out(fluid.rho_oil_stkgm3,'rho_oil_stkgm3')\n",
    "out(fluid.rho_gas_sckgm3,'rho_gas_sckgm3')\n",
    "out(wct_perc,'wct_perc')"
   ]
  },
  {
   "cell_type": "markdown",
   "metadata": {},
   "source": [
    "Генерация зависимостей коэффицента общей и естесственной сепарации от дебита, посчитанных через UniflocVBA и UniflocPy\n",
    "\n",
    "simgma_o = поверхностное натяжение = 200/100 - задается вручную"
   ]
  },
  {
   "cell_type": "code",
   "execution_count": 15,
   "metadata": {},
   "outputs": [],
   "source": [
    "def getvalues(start=1,stop=300,step=10):\n",
    "    q=[]\n",
    "    sep=[]\n",
    "    totalsep=[]\n",
    "    for i in range(start,stop,step):\n",
    "        q.append(i)\n",
    "        natsep=sp.unf_calc_natural_separation(dintake_mm/1000,dcasing_mm/1000,\n",
    "                                       i,\n",
    "                                       sp.qgas_scm3day(sp.qo_scm3day(i,wct_perc),rp_m3m3),fluid.bo_m3m3,\n",
    "                                       fluid.bg_m3m3,\n",
    "                                       200/1000,fluid.rho_oil_stkgm3,\n",
    "                                       fluid.rho_gas_sckgm3,wct_perc)\n",
    "        sep.append(natsep)\n",
    "        totalsep.append(sp.unf_calc_total_separation(natsep,sepgassep))\n",
    "      \n",
    "              \n",
    "    return [q,sep,totalsep]\n",
    "\n",
    "result=getvalues()"
   ]
  },
  {
   "cell_type": "markdown",
   "metadata": {},
   "source": [
    "Построение графиков\n",
    "\n",
    "***Существует явное несовпадение графиков, а также неопределенность в определении поверхностного натяжения  - sigma_o***\n",
    "\n",
    "необходима доработка"
   ]
  },
  {
   "cell_type": "code",
   "execution_count": 16,
   "metadata": {},
   "outputs": [
    {
     "data": {
      "image/png": "[encoded data removed]",
      "text/plain": [
       "<Figure size 432x288 with 1 Axes>"
      ]
     },
     "metadata": {
      "needs_background": "light"
     },
     "output_type": "display_data"
    }
   ],
   "source": [
    "plt.plot(result[0],result[1],label='natsep_py')\n",
    "plt.plot(data['Q'],data['Естественная сепарация 100 мм'],label='natsep_vba')\n",
    "plt.plot(result[0],result[2],label='totalsep_py')\n",
    "plt.plot(data['Q'],data['Общая сепарация'],label='totalsep_vba')\n",
    "plt.ylabel('natural sep')\n",
    "plt.xlabel('qliq_scm3day')\n",
    "plt.title('trouble with sigma_o, wct_perc=22')\n",
    "plt.legend()\n",
    "plt.show()"
   ]
  },
  {
   "cell_type": "code",
   "execution_count": null,
   "metadata": {},
   "outputs": [],
   "source": []
  }
 ],
 "metadata": {
  "kernelspec": {
   "display_name": "Python 3",
   "language": "python",
   "name": "python3"
  },
  "language_info": {
   "codemirror_mode": {
    "name": "ipython",
    "version": 3
   },
   "file_extension": ".py",
   "mimetype": "text/x-python",
   "name": "python",
   "nbconvert_exporter": "python",
   "pygments_lexer": "ipython3",
   "version": "3.7.0"
  }
 },
 "nbformat": 4,
 "nbformat_minor": 2
}
