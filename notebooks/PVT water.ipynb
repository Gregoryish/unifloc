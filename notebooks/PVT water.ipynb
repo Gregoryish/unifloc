{
 "cells": [
  {
   "cell_type": "markdown",
   "metadata": {},
   "source": [
    "# Свойства воды "
   ]
  },
  {
   "cell_type": "code",
   "execution_count": null,
   "metadata": {},
   "outputs": [],
   "source": []
  },
  {
   "cell_type": "code",
   "execution_count": 1,
   "metadata": {},
   "outputs": [],
   "source": [
    "import numpy as np\n",
    "import matplotlib as mpl\n",
    "import matplotlib.pyplot as plt\n",
    "from sympy import *\n",
    "#init_printing()"
   ]
  },
  {
   "cell_type": "code",
   "execution_count": 2,
   "metadata": {},
   "outputs": [],
   "source": [
    "def unf_Calc_BwSC_d(Salinity_ppm):\n",
    "    wpTDS = Salinity_ppm / 10000\n",
    "    return  0.0160185 * (62.368 + 0.438603 * wpTDS + 0.00160074 * wpTDS ** 2)"
   ]
  },
  {
   "cell_type": "code",
   "execution_count": 3,
   "metadata": {},
   "outputs": [
    {
     "data": {
      "text/plain": [
       "Text(0,0.5,'Относительная плотность воды')"
      ]
     },
     "execution_count": 3,
     "metadata": {},
     "output_type": "execute_result"
    },
    {
     "data": {
      "image/png": "[encoded data removed]",
      "text/plain": [
       "<Figure size 1080x432 with 1 Axes>"
      ]
     },
     "metadata": {},
     "output_type": "display_data"
    }
   ],
   "source": [
    "sal_set = np.arange( 100, 1000000, 1000)\n",
    "plt.figure(figsize=(15,6))\n",
    "#рисуем первый график\n",
    "plt.subplot(121)\n",
    "\n",
    "plt.plot(sal_set, unf_Calc_BwSC_d(sal_set))\n",
    "\n",
    "plt.title('Плотность воды при стандартных условиях от солености')\n",
    "plt.xlabel('Соленость ppm')\n",
    "plt.ylabel('Относительная плотность воды')"
   ]
  },
  {
   "cell_type": "code",
   "execution_count": 4,
   "metadata": {},
   "outputs": [
    {
     "data": {
      "text/plain": [
       "Eq(rho_w, 0.00160074*S**2 + 0.438603*S + 62.368)"
      ]
     },
     "metadata": {},
     "output_type": "display_data"
    }
   ],
   "source": [
    "rho_w = symbols('rho_w', positive = True, real = True)\n",
    "sal = symbols('S', positive = True, real = True)\n",
    "eq = Eq(rho_w,   (62.368 + 0.438603 * sal  + 0.00160074 * (sal)  ** 2) ) \n",
    "display(eq)"
   ]
  },
  {
   "cell_type": "code",
   "execution_count": 5,
   "metadata": {},
   "outputs": [],
   "source": [
    "eq1=solve(eq,sal)[1]"
   ]
  },
  {
   "cell_type": "code",
   "execution_count": 6,
   "metadata": {},
   "outputs": [
    {
     "data": {
      "text/plain": [
       "0.000937066606694404*sqrt(711440000.0*rho_w - 22996357519.0) - 137.000074965329"
      ]
     },
     "metadata": {},
     "output_type": "display_data"
    }
   ],
   "source": [
    "display(eq1)"
   ]
  },
  {
   "cell_type": "code",
   "execution_count": 7,
   "metadata": {},
   "outputs": [
    {
     "data": {
      "text/plain": [
       "-137.000074965329 + 139.416853886604*I"
      ]
     },
     "execution_count": 7,
     "metadata": {},
     "output_type": "execute_result"
    }
   ],
   "source": [
    "eq1.subs(rho_w,1.21)\n"
   ]
  },
  {
   "cell_type": "code",
   "execution_count": 8,
   "metadata": {},
   "outputs": [
    {
     "data": {
      "text/plain": [
       "0.000937066606694404*(711440000.0*rho_w - 22996357519.0)**0.5 - 137.000074965329"
      ]
     },
     "execution_count": 8,
     "metadata": {},
     "output_type": "execute_result"
    }
   ],
   "source": [
    "simplify(eq1.evalf())"
   ]
  },
  {
   "cell_type": "code",
   "execution_count": 9,
   "metadata": {},
   "outputs": [
    {
     "data": {
      "text/plain": [
       "(624.711071129603*rho_w - 20192.9595437054)**0.5 - 137.000074965329"
      ]
     },
     "execution_count": 9,
     "metadata": {},
     "output_type": "execute_result"
    }
   ],
   "source": [
    "(0.000937066606694404**2*(711440000.0 * rho_w - 22996357519.0))**0.5-137.000074965329"
   ]
  },
  {
   "cell_type": "code",
   "execution_count": null,
   "metadata": {},
   "outputs": [],
   "source": []
  }
 ],
 "metadata": {
  "kernelspec": {
   "display_name": "Python 3",
   "language": "python",
   "name": "python3"
  },
  "language_info": {
   "codemirror_mode": {
    "name": "ipython",
    "version": 3
   },
   "file_extension": ".py",
   "mimetype": "text/x-python",
   "name": "python",
   "nbconvert_exporter": "python",
   "pygments_lexer": "ipython3",
   "version": "3.6.5"
  }
 },
 "nbformat": 4,
 "nbformat_minor": 2
}
