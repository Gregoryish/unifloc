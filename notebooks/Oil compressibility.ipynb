{
 "cells": [
  {
   "cell_type": "code",
   "execution_count": null,
   "metadata": {},
   "outputs": [],
   "source": [
    "import matplotlib.pyplot as plt\n",
    "import matplotlib as mpl\n",
    "import numpy as np\n",
    "from sympy import *\n",
    "init_printing()\n",
    "import sys\n",
    "sys.path.append('../')\n",
    "import uPVT.PVT_correlations as PVT"
   ]
  },
  {
   "cell_type": "markdown",
   "metadata": {},
   "source": [
    "## Объемный коэффициент нефти\n",
    "\n",
    "### Корреляция при давлении выше давления насыщения\n",
    "\n",
    "Корреляция для объемного коэффициента нефти при давлении выше давления насыщения в некоторых источниках указывается, что она принадлежит Стендингу, в некоторых Vasquez & Beggs. На самом деле это не корреляция, так как природа ее происхождения не статистическая, а вполне себе физическое уравнение.\n",
    "\n",
    "$$ b_o = b_{ob} \\cdot \\exp(c_o(p_b - p)) $$\n",
    "\n",
    "где:\n",
    "\n",
    "$ b_o $ - объемный коэффициент нефти при давлении p, м3/м3\n",
    "\n",
    "$ b_{ob} $ - объемный коэффициент нефти при давлении насыщения, м3/м3\n",
    "\n",
    "$ c_o $ - сжимаемость нефти, 1/МПа\n",
    "\n",
    "$ p $ - давление, МПа\n",
    "\n",
    "$ p_b $ - давление насыщения, МПа\n",
    "\n"
   ]
  }
 ],
 "metadata": {
  "kernelspec": {
   "display_name": "Python 3",
   "language": "python",
   "name": "python3"
  },
  "language_info": {
   "codemirror_mode": {
    "name": "ipython",
    "version": 3
   },
   "file_extension": ".py",
   "mimetype": "text/x-python",
   "name": "python",
   "nbconvert_exporter": "python",
   "pygments_lexer": "ipython3",
   "version": "3.7.0"
  }
 },
 "nbformat": 4,
 "nbformat_minor": 2
}
