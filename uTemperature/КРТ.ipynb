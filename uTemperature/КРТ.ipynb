{
 "cells": [
  {
   "cell_type": "code",
   "execution_count": 1,
   "metadata": {},
   "outputs": [],
   "source": [
    "import numpy as np\n",
    "import math\n",
    "import matplotlib.pyplot as plt"
   ]
  },
  {
   "cell_type": "code",
   "execution_count": 25,
   "metadata": {},
   "outputs": [
    {
     "data": {
      "text/html": [
       "\n",
       "    <div class=\"bk-root\">\n",
       "        <a href=\"https://bokeh.pydata.org\" target=\"_blank\" class=\"bk-logo bk-logo-small bk-logo-notebook\"></a>\n",
       "        <span id=\"1001\">Loading BokehJS ...</span>\n",
       "    </div>"
      ]
     },
     "metadata": {},
     "output_type": "display_data"
    },
    {
     "data": {
      "application/javascript": [
       "\n",
       "(function(root) {\n",
       "  function now() {\n",
       "    return new Date();\n",
       "  }\n",
       "\n",
       "  var force = true;\n",
       "\n",
       "  if (typeof (root._bokeh_onload_callbacks) === \"undefined\" || force === true) {\n",
       "    root._bokeh_onload_callbacks = [];\n",
       "    root._bokeh_is_loading = undefined;\n",
       "  }\n",
       "\n",
       "  var JS_MIME_TYPE = 'application/javascript';\n",
       "  var HTML_MIME_TYPE = 'text/html';\n",
       "  var EXEC_MIME_TYPE = 'application/vnd.bokehjs_exec.v0+json';\n",
       "  var CLASS_NAME = 'output_bokeh rendered_html';\n",
       "\n",
       "  /**\n",
       "   * Render data to the DOM node\n",
       "   */\n",
       "  function render(props, node) {\n",
       "    var script = document.createElement(\"script\");\n",
       "    node.appendChild(script);\n",
       "  }\n",
       "\n",
       "  /**\n",
       "   * Handle when an output is cleared or removed\n",
       "   */\n",
       "  function handleClearOutput(event, handle) {\n",
       "    var cell = handle.cell;\n",
       "\n",
       "    var id = cell.output_area._bokeh_element_id;\n",
       "    var server_id = cell.output_area._bokeh_server_id;\n",
       "    // Clean up Bokeh references\n",
       "    if (id != null && id in Bokeh.index) {\n",
       "      Bokeh.index[id].model.document.clear();\n",
       "      delete Bokeh.index[id];\n",
       "    }\n",
       "\n",
       "    if (server_id !== undefined) {\n",
       "      // Clean up Bokeh references\n",
       "      var cmd = \"from bokeh.io.state import curstate; print(curstate().uuid_to_server['\" + server_id + \"'].get_sessions()[0].document.roots[0]._id)\";\n",
       "      cell.notebook.kernel.execute(cmd, {\n",
       "        iopub: {\n",
       "          output: function(msg) {\n",
       "            var id = msg.content.text.trim();\n",
       "            if (id in Bokeh.index) {\n",
       "              Bokeh.index[id].model.document.clear();\n",
       "              delete Bokeh.index[id];\n",
       "            }\n",
       "          }\n",
       "        }\n",
       "      });\n",
       "      // Destroy server and session\n",
       "      var cmd = \"import bokeh.io.notebook as ion; ion.destroy_server('\" + server_id + \"')\";\n",
       "      cell.notebook.kernel.execute(cmd);\n",
       "    }\n",
       "  }\n",
       "\n",
       "  /**\n",
       "   * Handle when a new output is added\n",
       "   */\n",
       "  function handleAddOutput(event, handle) {\n",
       "    var output_area = handle.output_area;\n",
       "    var output = handle.output;\n",
       "\n",
       "    // limit handleAddOutput to display_data with EXEC_MIME_TYPE content only\n",
       "    if ((output.output_type != \"display_data\") || (!output.data.hasOwnProperty(EXEC_MIME_TYPE))) {\n",
       "      return\n",
       "    }\n",
       "\n",
       "    var toinsert = output_area.element.find(\".\" + CLASS_NAME.split(' ')[0]);\n",
       "\n",
       "    if (output.metadata[EXEC_MIME_TYPE][\"id\"] !== undefined) {\n",
       "      toinsert[toinsert.length - 1].firstChild.textContent = output.data[JS_MIME_TYPE];\n",
       "      // store reference to embed id on output_area\n",
       "      output_area._bokeh_element_id = output.metadata[EXEC_MIME_TYPE][\"id\"];\n",
       "    }\n",
       "    if (output.metadata[EXEC_MIME_TYPE][\"server_id\"] !== undefined) {\n",
       "      var bk_div = document.createElement(\"div\");\n",
       "      bk_div.innerHTML = output.data[HTML_MIME_TYPE];\n",
       "      var script_attrs = bk_div.children[0].attributes;\n",
       "      for (var i = 0; i < script_attrs.length; i++) {\n",
       "        toinsert[toinsert.length - 1].firstChild.setAttribute(script_attrs[i].name, script_attrs[i].value);\n",
       "      }\n",
       "      // store reference to server id on output_area\n",
       "      output_area._bokeh_server_id = output.metadata[EXEC_MIME_TYPE][\"server_id\"];\n",
       "    }\n",
       "  }\n",
       "\n",
       "  function register_renderer(events, OutputArea) {\n",
       "\n",
       "    function append_mime(data, metadata, element) {\n",
       "      // create a DOM node to render to\n",
       "      var toinsert = this.create_output_subarea(\n",
       "        metadata,\n",
       "        CLASS_NAME,\n",
       "        EXEC_MIME_TYPE\n",
       "      );\n",
       "      this.keyboard_manager.register_events(toinsert);\n",
       "      // Render to node\n",
       "      var props = {data: data, metadata: metadata[EXEC_MIME_TYPE]};\n",
       "      render(props, toinsert[toinsert.length - 1]);\n",
       "      element.append(toinsert);\n",
       "      return toinsert\n",
       "    }\n",
       "\n",
       "    /* Handle when an output is cleared or removed */\n",
       "    events.on('clear_output.CodeCell', handleClearOutput);\n",
       "    events.on('delete.Cell', handleClearOutput);\n",
       "\n",
       "    /* Handle when a new output is added */\n",
       "    events.on('output_added.OutputArea', handleAddOutput);\n",
       "\n",
       "    /**\n",
       "     * Register the mime type and append_mime function with output_area\n",
       "     */\n",
       "    OutputArea.prototype.register_mime_type(EXEC_MIME_TYPE, append_mime, {\n",
       "      /* Is output safe? */\n",
       "      safe: true,\n",
       "      /* Index of renderer in `output_area.display_order` */\n",
       "      index: 0\n",
       "    });\n",
       "  }\n",
       "\n",
       "  // register the mime type if in Jupyter Notebook environment and previously unregistered\n",
       "  if (root.Jupyter !== undefined) {\n",
       "    var events = require('base/js/events');\n",
       "    var OutputArea = require('notebook/js/outputarea').OutputArea;\n",
       "\n",
       "    if (OutputArea.prototype.mime_types().indexOf(EXEC_MIME_TYPE) == -1) {\n",
       "      register_renderer(events, OutputArea);\n",
       "    }\n",
       "  }\n",
       "\n",
       "  \n",
       "  if (typeof (root._bokeh_timeout) === \"undefined\" || force === true) {\n",
       "    root._bokeh_timeout = Date.now() + 5000;\n",
       "    root._bokeh_failed_load = false;\n",
       "  }\n",
       "\n",
       "  var NB_LOAD_WARNING = {'data': {'text/html':\n",
       "     \"<div style='background-color: #fdd'>\\n\"+\n",
       "     \"<p>\\n\"+\n",
       "     \"BokehJS does not appear to have successfully loaded. If loading BokehJS from CDN, this \\n\"+\n",
       "     \"may be due to a slow or bad network connection. Possible fixes:\\n\"+\n",
       "     \"</p>\\n\"+\n",
       "     \"<ul>\\n\"+\n",
       "     \"<li>re-rerun `output_notebook()` to attempt to load from CDN again, or</li>\\n\"+\n",
       "     \"<li>use INLINE resources instead, as so:</li>\\n\"+\n",
       "     \"</ul>\\n\"+\n",
       "     \"<code>\\n\"+\n",
       "     \"from bokeh.resources import INLINE\\n\"+\n",
       "     \"output_notebook(resources=INLINE)\\n\"+\n",
       "     \"</code>\\n\"+\n",
       "     \"</div>\"}};\n",
       "\n",
       "  function display_loaded() {\n",
       "    var el = document.getElementById(\"1001\");\n",
       "    if (el != null) {\n",
       "      el.textContent = \"BokehJS is loading...\";\n",
       "    }\n",
       "    if (root.Bokeh !== undefined) {\n",
       "      if (el != null) {\n",
       "        el.textContent = \"BokehJS \" + root.Bokeh.version + \" successfully loaded.\";\n",
       "      }\n",
       "    } else if (Date.now() < root._bokeh_timeout) {\n",
       "      setTimeout(display_loaded, 100)\n",
       "    }\n",
       "  }\n",
       "\n",
       "\n",
       "  function run_callbacks() {\n",
       "    try {\n",
       "      root._bokeh_onload_callbacks.forEach(function(callback) { callback() });\n",
       "    }\n",
       "    finally {\n",
       "      delete root._bokeh_onload_callbacks\n",
       "    }\n",
       "    console.info(\"Bokeh: all callbacks have finished\");\n",
       "  }\n",
       "\n",
       "  function load_libs(js_urls, callback) {\n",
       "    root._bokeh_onload_callbacks.push(callback);\n",
       "    if (root._bokeh_is_loading > 0) {\n",
       "      console.log(\"Bokeh: BokehJS is being loaded, scheduling callback at\", now());\n",
       "      return null;\n",
       "    }\n",
       "    if (js_urls == null || js_urls.length === 0) {\n",
       "      run_callbacks();\n",
       "      return null;\n",
       "    }\n",
       "    console.log(\"Bokeh: BokehJS not loaded, scheduling load and callback at\", now());\n",
       "    root._bokeh_is_loading = js_urls.length;\n",
       "    for (var i = 0; i < js_urls.length; i++) {\n",
       "      var url = js_urls[i];\n",
       "      var s = document.createElement('script');\n",
       "      s.src = url;\n",
       "      s.async = false;\n",
       "      s.onreadystatechange = s.onload = function() {\n",
       "        root._bokeh_is_loading--;\n",
       "        if (root._bokeh_is_loading === 0) {\n",
       "          console.log(\"Bokeh: all BokehJS libraries loaded\");\n",
       "          run_callbacks()\n",
       "        }\n",
       "      };\n",
       "      s.onerror = function() {\n",
       "        console.warn(\"failed to load library \" + url);\n",
       "      };\n",
       "      console.log(\"Bokeh: injecting script tag for BokehJS library: \", url);\n",
       "      document.getElementsByTagName(\"head\")[0].appendChild(s);\n",
       "    }\n",
       "  };var element = document.getElementById(\"1001\");\n",
       "  if (element == null) {\n",
       "    console.log(\"Bokeh: ERROR: autoload.js configured with elementid '1001' but no matching script tag was found. \")\n",
       "    return false;\n",
       "  }\n",
       "\n",
       "  var js_urls = [\"https://cdn.pydata.org/bokeh/release/bokeh-1.0.4.min.js\", \"https://cdn.pydata.org/bokeh/release/bokeh-widgets-1.0.4.min.js\", \"https://cdn.pydata.org/bokeh/release/bokeh-tables-1.0.4.min.js\", \"https://cdn.pydata.org/bokeh/release/bokeh-gl-1.0.4.min.js\"];\n",
       "\n",
       "  var inline_js = [\n",
       "    function(Bokeh) {\n",
       "      Bokeh.set_log_level(\"info\");\n",
       "    },\n",
       "    \n",
       "    function(Bokeh) {\n",
       "      \n",
       "    },\n",
       "    function(Bokeh) {\n",
       "      console.log(\"Bokeh: injecting CSS: https://cdn.pydata.org/bokeh/release/bokeh-1.0.4.min.css\");\n",
       "      Bokeh.embed.inject_css(\"https://cdn.pydata.org/bokeh/release/bokeh-1.0.4.min.css\");\n",
       "      console.log(\"Bokeh: injecting CSS: https://cdn.pydata.org/bokeh/release/bokeh-widgets-1.0.4.min.css\");\n",
       "      Bokeh.embed.inject_css(\"https://cdn.pydata.org/bokeh/release/bokeh-widgets-1.0.4.min.css\");\n",
       "      console.log(\"Bokeh: injecting CSS: https://cdn.pydata.org/bokeh/release/bokeh-tables-1.0.4.min.css\");\n",
       "      Bokeh.embed.inject_css(\"https://cdn.pydata.org/bokeh/release/bokeh-tables-1.0.4.min.css\");\n",
       "    }\n",
       "  ];\n",
       "\n",
       "  function run_inline_js() {\n",
       "    \n",
       "    if ((root.Bokeh !== undefined) || (force === true)) {\n",
       "      for (var i = 0; i < inline_js.length; i++) {\n",
       "        inline_js[i].call(root, root.Bokeh);\n",
       "      }if (force === true) {\n",
       "        display_loaded();\n",
       "      }} else if (Date.now() < root._bokeh_timeout) {\n",
       "      setTimeout(run_inline_js, 100);\n",
       "    } else if (!root._bokeh_failed_load) {\n",
       "      console.log(\"Bokeh: BokehJS failed to load within specified timeout.\");\n",
       "      root._bokeh_failed_load = true;\n",
       "    } else if (force !== true) {\n",
       "      var cell = $(document.getElementById(\"1001\")).parents('.cell').data().cell;\n",
       "      cell.output_area.append_execute_result(NB_LOAD_WARNING)\n",
       "    }\n",
       "\n",
       "  }\n",
       "\n",
       "  if (root._bokeh_is_loading === 0) {\n",
       "    console.log(\"Bokeh: BokehJS loaded, going straight to plotting\");\n",
       "    run_inline_js();\n",
       "  } else {\n",
       "    load_libs(js_urls, function() {\n",
       "      console.log(\"Bokeh: BokehJS plotting callback run at\", now());\n",
       "      run_inline_js();\n",
       "    });\n",
       "  }\n",
       "}(window));"
      ],
      "application/vnd.bokehjs_load.v0+json": "\n(function(root) {\n  function now() {\n    return new Date();\n  }\n\n  var force = true;\n\n  if (typeof (root._bokeh_onload_callbacks) === \"undefined\" || force === true) {\n    root._bokeh_onload_callbacks = [];\n    root._bokeh_is_loading = undefined;\n  }\n\n  \n\n  \n  if (typeof (root._bokeh_timeout) === \"undefined\" || force === true) {\n    root._bokeh_timeout = Date.now() + 5000;\n    root._bokeh_failed_load = false;\n  }\n\n  var NB_LOAD_WARNING = {'data': {'text/html':\n     \"<div style='background-color: #fdd'>\\n\"+\n     \"<p>\\n\"+\n     \"BokehJS does not appear to have successfully loaded. If loading BokehJS from CDN, this \\n\"+\n     \"may be due to a slow or bad network connection. Possible fixes:\\n\"+\n     \"</p>\\n\"+\n     \"<ul>\\n\"+\n     \"<li>re-rerun `output_notebook()` to attempt to load from CDN again, or</li>\\n\"+\n     \"<li>use INLINE resources instead, as so:</li>\\n\"+\n     \"</ul>\\n\"+\n     \"<code>\\n\"+\n     \"from bokeh.resources import INLINE\\n\"+\n     \"output_notebook(resources=INLINE)\\n\"+\n     \"</code>\\n\"+\n     \"</div>\"}};\n\n  function display_loaded() {\n    var el = document.getElementById(\"1001\");\n    if (el != null) {\n      el.textContent = \"BokehJS is loading...\";\n    }\n    if (root.Bokeh !== undefined) {\n      if (el != null) {\n        el.textContent = \"BokehJS \" + root.Bokeh.version + \" successfully loaded.\";\n      }\n    } else if (Date.now() < root._bokeh_timeout) {\n      setTimeout(display_loaded, 100)\n    }\n  }\n\n\n  function run_callbacks() {\n    try {\n      root._bokeh_onload_callbacks.forEach(function(callback) { callback() });\n    }\n    finally {\n      delete root._bokeh_onload_callbacks\n    }\n    console.info(\"Bokeh: all callbacks have finished\");\n  }\n\n  function load_libs(js_urls, callback) {\n    root._bokeh_onload_callbacks.push(callback);\n    if (root._bokeh_is_loading > 0) {\n      console.log(\"Bokeh: BokehJS is being loaded, scheduling callback at\", now());\n      return null;\n    }\n    if (js_urls == null || js_urls.length === 0) {\n      run_callbacks();\n      return null;\n    }\n    console.log(\"Bokeh: BokehJS not loaded, scheduling load and callback at\", now());\n    root._bokeh_is_loading = js_urls.length;\n    for (var i = 0; i < js_urls.length; i++) {\n      var url = js_urls[i];\n      var s = document.createElement('script');\n      s.src = url;\n      s.async = false;\n      s.onreadystatechange = s.onload = function() {\n        root._bokeh_is_loading--;\n        if (root._bokeh_is_loading === 0) {\n          console.log(\"Bokeh: all BokehJS libraries loaded\");\n          run_callbacks()\n        }\n      };\n      s.onerror = function() {\n        console.warn(\"failed to load library \" + url);\n      };\n      console.log(\"Bokeh: injecting script tag for BokehJS library: \", url);\n      document.getElementsByTagName(\"head\")[0].appendChild(s);\n    }\n  };var element = document.getElementById(\"1001\");\n  if (element == null) {\n    console.log(\"Bokeh: ERROR: autoload.js configured with elementid '1001' but no matching script tag was found. \")\n    return false;\n  }\n\n  var js_urls = [\"https://cdn.pydata.org/bokeh/release/bokeh-1.0.4.min.js\", \"https://cdn.pydata.org/bokeh/release/bokeh-widgets-1.0.4.min.js\", \"https://cdn.pydata.org/bokeh/release/bokeh-tables-1.0.4.min.js\", \"https://cdn.pydata.org/bokeh/release/bokeh-gl-1.0.4.min.js\"];\n\n  var inline_js = [\n    function(Bokeh) {\n      Bokeh.set_log_level(\"info\");\n    },\n    \n    function(Bokeh) {\n      \n    },\n    function(Bokeh) {\n      console.log(\"Bokeh: injecting CSS: https://cdn.pydata.org/bokeh/release/bokeh-1.0.4.min.css\");\n      Bokeh.embed.inject_css(\"https://cdn.pydata.org/bokeh/release/bokeh-1.0.4.min.css\");\n      console.log(\"Bokeh: injecting CSS: https://cdn.pydata.org/bokeh/release/bokeh-widgets-1.0.4.min.css\");\n      Bokeh.embed.inject_css(\"https://cdn.pydata.org/bokeh/release/bokeh-widgets-1.0.4.min.css\");\n      console.log(\"Bokeh: injecting CSS: https://cdn.pydata.org/bokeh/release/bokeh-tables-1.0.4.min.css\");\n      Bokeh.embed.inject_css(\"https://cdn.pydata.org/bokeh/release/bokeh-tables-1.0.4.min.css\");\n    }\n  ];\n\n  function run_inline_js() {\n    \n    if ((root.Bokeh !== undefined) || (force === true)) {\n      for (var i = 0; i < inline_js.length; i++) {\n        inline_js[i].call(root, root.Bokeh);\n      }if (force === true) {\n        display_loaded();\n      }} else if (Date.now() < root._bokeh_timeout) {\n      setTimeout(run_inline_js, 100);\n    } else if (!root._bokeh_failed_load) {\n      console.log(\"Bokeh: BokehJS failed to load within specified timeout.\");\n      root._bokeh_failed_load = true;\n    } else if (force !== true) {\n      var cell = $(document.getElementById(\"1001\")).parents('.cell').data().cell;\n      cell.output_area.append_execute_result(NB_LOAD_WARNING)\n    }\n\n  }\n\n  if (root._bokeh_is_loading === 0) {\n    console.log(\"Bokeh: BokehJS loaded, going straight to plotting\");\n    run_inline_js();\n  } else {\n    load_libs(js_urls, function() {\n      console.log(\"Bokeh: BokehJS plotting callback run at\", now());\n      run_inline_js();\n    });\n  }\n}(window));"
     },
     "metadata": {},
     "output_type": "display_data"
    }
   ],
   "source": [
    "from bokeh.layouts import column,row,layout\n",
    "from bokeh.models import ColumnDataSource, Slider, RadioButtonGroup,TableColumn, DataTable, Range1d, LinearAxis\n",
    "from bokeh.plotting import figure, output_file, show\n",
    "from bokeh.themes import Theme\n",
    "from bokeh.io import show, output_notebook, output_file, push_notebook\n",
    "from bokeh.layouts import widgetbox\n",
    "from bokeh.models.tools import HoverTool, PointDrawTool\n",
    "#прочие\n",
    "import pandas as pd\n",
    "import numpy as np\n",
    "from scipy import special\n",
    "import os\n",
    "import scipy as sp\n",
    "import matplotlib.pyplot as plt\n",
    "import pylab\n",
    "\n",
    "\n",
    "output_notebook()"
   ]
  },
  {
   "cell_type": "code",
   "execution_count": 2,
   "metadata": {},
   "outputs": [],
   "source": [
    "pi=math.pi"
   ]
  },
  {
   "cell_type": "code",
   "execution_count": 17,
   "metadata": {},
   "outputs": [],
   "source": [
    "#Fourier's law\n",
    "def q_conduction(l,k,r0,ri,t0,ti):\n",
    "    return 2*pi*k*(t0-ti)/np.log(r0/ri)\n",
    "#Newton's law\n",
    "def q_convection(ri,l,h,tf,ti):\n",
    "    '''ri - pipe inside radius (m),\n",
    "    l - pipe lenth (m)\n",
    "    h - constant of proportionality called 'convective heat transfer\n",
    "    coefficient (W/m2/C)'\n",
    "    tf - fluid temperature (C)\n",
    "    ti - inner wall temperature (C)\n",
    "    \n",
    "    '''\n",
    "    return 2*pi*ri*l*h*(tf-ti)"
   ]
  },
  {
   "cell_type": "code",
   "execution_count": 73,
   "metadata": {},
   "outputs": [
    {
     "name": "stdout",
     "output_type": "stream",
     "text": [
      "533.4541831227677\n"
     ]
    }
   ],
   "source": [
    "print(q(10,1,0.9,0.8,20,10))"
   ]
  },
  {
   "cell_type": "code",
   "execution_count": 72,
   "metadata": {},
   "outputs": [
    {
     "data": {
      "image/png": "[encoded data removed]",
      "text/plain": [
       "<Figure size 432x288 with 1 Axes>"
      ]
     },
     "metadata": {
      "needs_background": "light"
     },
     "output_type": "display_data"
    }
   ],
   "source": [
    "x=np.asarray(range(1,10))\n",
    "y=q_conduction(10,x,0.9,0.8,20,10)\n",
    "plt.plot(x,y)\n",
    "plt.title('Закон Фурье, (теплопроводность)')\n",
    "plt.xlabel('Коэффициент теплопередачи')\n",
    "plt.ylabel('Тепловой поток')\n",
    "plt.show()   \n",
    "\n"
   ]
  },
  {
   "cell_type": "code",
   "execution_count": null,
   "metadata": {},
   "outputs": [],
   "source": []
  },
  {
   "cell_type": "code",
   "execution_count": 20,
   "metadata": {},
   "outputs": [
    {
     "data": {
      "image/png": "[encoded data removed]",
      "text/plain": [
       "<Figure size 432x288 with 1 Axes>"
      ]
     },
     "metadata": {
      "needs_background": "light"
     },
     "output_type": "display_data"
    }
   ],
   "source": [
    "x=np.asarray(range(1,10))\n",
    "y=q_convection(0.06,1,1,x,0.1)\n",
    "plt.plot(x,y)\n",
    "plt.title('Закон Ньютона, (конвекция )')\n",
    "plt.xlabel('Температура жидкости')\n",
    "plt.ylabel('Тепловой поток')\n",
    "plt.show()   "
   ]
  },
  {
   "cell_type": "markdown",
   "metadata": {},
   "source": [
    "## Исходные данные"
   ]
  },
  {
   "cell_type": "code",
   "execution_count": 67,
   "metadata": {},
   "outputs": [],
   "source": [
    "depth_m=2560  #глубина скважины\n",
    "rto_m=73/2/1000 #внешний радиус НКТ\n",
    "rti_m=61/2/1000 #внутренний радиус НКТ\n",
    "rcasi_m=120/2/1000 #внутренний радиус ОК\n",
    "rcaso_m=143/2/1000 #внешний радиус ОК\n",
    "rwb_m=300/2/1000 #внешний радиус скважины (после цемента)\n",
    "\n",
    "teibh_c=80 #начальная пластовая температура на забое\n",
    "\n",
    "geoterm_gradm=0.03 #геотермический градиент, С/м\n",
    "\n",
    "\n",
    "ke_dsmc=2.4 #Теплопроводность породы, Дж/сек/м/С\n",
    "kcem_dsmc=4 #Теплопроводность цемента, Дж/сек/м/С\n",
    "ke_dsmc=2.4 #Теплопроводность породы, Дж/сек/м/С\n",
    "kaliq_dsmc=200 #conductivity of annular fluid, ???\n",
    "#Теплопередача за счет конвекции через жидкость Дж/сек/м2/С ???\n",
    "kagas_dsmc=20 #Теплопередача за счет конвекции через газ Дж/сек/м2/С ???\n",
    "\n",
    "rho_oil_kgm3=860\n",
    "rho_water_kgm3=1000\n",
    "cp_oil=2100 #теплоемкость нефти, Дж/кг/С\n",
    "cp_water=4100 #теплоемкость воды, Дж/кг/С\n",
    "\n",
    "\n",
    "\n",
    "\n"
   ]
  },
  {
   "cell_type": "code",
   "execution_count": 70,
   "metadata": {},
   "outputs": [],
   "source": [
    "dh=np.asarray(range(0,depth_m,10)) #Массив глубины по стволу скважины\n",
    "tei=(dh[-1]-dh)*geoterm_gradm*(-1)+teibh_c #Температура пласта по стволу в нач.усл."
   ]
  },
  {
   "cell_type": "code",
   "execution_count": 68,
   "metadata": {},
   "outputs": [],
   "source": []
  },
  {
   "cell_type": "code",
   "execution_count": null,
   "metadata": {},
   "outputs": [],
   "source": []
  },
  {
   "cell_type": "code",
   "execution_count": 71,
   "metadata": {},
   "outputs": [
    {
     "data": {
      "text/html": [
       "\n",
       "\n",
       "\n",
       "\n",
       "\n",
       "\n",
       "  <div class=\"bk-root\" id=\"b3e9d94c-ae40-4b32-9fcc-09d91e55dffb\" data-root-id=\"3534\"></div>\n"
      ]
     },
     "metadata": {},
     "output_type": "display_data"
    },
    {
     "data": {
      "application/javascript": [
       "(function(root) {\n",
       "  function embed_document(root) {\n",
       "    \n",
       "  var docs_json = {\"8907558b-2149-436d-9e65-b14f6b4b1328\":{\"roots\":{\"references\":[{\"attributes\":{\"below\":[{\"id\":\"3544\",\"type\":\"LinearAxis\"}],\"left\":[{\"id\":\"3549\",\"type\":\"LinearAxis\"}],\"renderers\":[{\"id\":\"3544\",\"type\":\"LinearAxis\"},{\"id\":\"3548\",\"type\":\"Grid\"},{\"id\":\"3549\",\"type\":\"LinearAxis\"},{\"id\":\"3553\",\"type\":\"Grid\"},{\"id\":\"3562\",\"type\":\"BoxAnnotation\"},{\"id\":\"3580\",\"type\":\"Legend\"},{\"id\":\"3572\",\"type\":\"GlyphRenderer\"}],\"title\":{\"id\":\"3533\",\"type\":\"Title\"},\"toolbar\":{\"id\":\"3560\",\"type\":\"Toolbar\"},\"x_range\":{\"id\":\"3536\",\"type\":\"DataRange1d\"},\"x_scale\":{\"id\":\"3540\",\"type\":\"LinearScale\"},\"y_range\":{\"id\":\"3538\",\"type\":\"Range1d\"},\"y_scale\":{\"id\":\"3542\",\"type\":\"LinearScale\"}},\"id\":\"3534\",\"subtype\":\"Figure\",\"type\":\"Plot\"},{\"attributes\":{\"dimension\":1,\"plot\":{\"id\":\"3534\",\"subtype\":\"Figure\",\"type\":\"Plot\"},\"ticker\":{\"id\":\"3550\",\"type\":\"BasicTicker\"}},\"id\":\"3553\",\"type\":\"Grid\"},{\"attributes\":{\"line_color\":\"#1f77b4\",\"x\":{\"field\":\"x\"},\"y\":{\"field\":\"y\"}},\"id\":\"3570\",\"type\":\"Line\"},{\"attributes\":{},\"id\":\"3550\",\"type\":\"BasicTicker\"},{\"attributes\":{\"active_drag\":\"auto\",\"active_inspect\":\"auto\",\"active_multi\":null,\"active_scroll\":\"auto\",\"active_tap\":\"auto\",\"tools\":[{\"id\":\"3554\",\"type\":\"PanTool\"},{\"id\":\"3555\",\"type\":\"WheelZoomTool\"},{\"id\":\"3556\",\"type\":\"BoxZoomTool\"},{\"id\":\"3557\",\"type\":\"SaveTool\"},{\"id\":\"3558\",\"type\":\"ResetTool\"},{\"id\":\"3559\",\"type\":\"HelpTool\"}]},\"id\":\"3560\",\"type\":\"Toolbar\"},{\"attributes\":{},\"id\":\"3554\",\"type\":\"PanTool\"},{\"attributes\":{\"callback\":null,\"end\":0,\"start\":2550},\"id\":\"3538\",\"type\":\"Range1d\"},{\"attributes\":{},\"id\":\"3555\",\"type\":\"WheelZoomTool\"},{\"attributes\":{\"overlay\":{\"id\":\"3562\",\"type\":\"BoxAnnotation\"}},\"id\":\"3556\",\"type\":\"BoxZoomTool\"},{\"attributes\":{},\"id\":\"3557\",\"type\":\"SaveTool\"},{\"attributes\":{},\"id\":\"3715\",\"type\":\"UnionRenderers\"},{\"attributes\":{\"plot\":null,\"text\":\"\\u0420\\u0430\\u0441\\u043f\\u0440\\u0435\\u0434\\u0435\\u043b\\u0435\\u043d\\u0438\\u0435 \\u0442\\u0435\\u043c\\u043f\\u0435\\u0440\\u0430\\u0442\\u0443\\u0440\\u044b\"},\"id\":\"3533\",\"type\":\"Title\"},{\"attributes\":{\"callback\":null,\"data\":{\"x\":{\"__ndarray__\":\"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\",\"dtype\":\"float64\",\"shape\":[256]},\"y\":{\"__ndarray__\":\"AAAAAAoAAAAUAAAAHgAAACgAAAAyAAAAPAAAAEYAAABQAAAAWgAAAGQAAABuAAAAeAAAAIIAAACMAAAAlgAAAKAAAACqAAAAtAAAAL4AAADIAAAA0gAAANwAAADmAAAA8AAAAPoAAAAEAQAADgEAABgBAAAiAQAALAEAADYBAABAAQAASgEAAFQBAABeAQAAaAEAAHIBAAB8AQAAhgEAAJABAACaAQAApAEAAK4BAAC4AQAAwgEAAMwBAADWAQAA4AEAAOoBAAD0AQAA/gEAAAgCAAASAgAAHAIAACYCAAAwAgAAOgIAAEQCAABOAgAAWAIAAGICAABsAgAAdgIAAIACAACKAgAAlAIAAJ4CAACoAgAAsgIAALwCAADGAgAA0AIAANoCAADkAgAA7gIAAPgCAAACAwAADAMAABYDAAAgAwAAKgMAADQDAAA+AwAASAMAAFIDAABcAwAAZgMAAHADAAB6AwAAhAMAAI4DAACYAwAAogMAAKwDAAC2AwAAwAMAAMoDAADUAwAA3gMAAOgDAADyAwAA/AMAAAYEAAAQBAAAGgQAACQEAAAuBAAAOAQAAEIEAABMBAAAVgQAAGAEAABqBAAAdAQAAH4EAACIBAAAkgQAAJwEAACmBAAAsAQAALoEAADEBAAAzgQAANgEAADiBAAA7AQAAPYEAAAABQAACgUAABQFAAAeBQAAKAUAADIFAAA8BQAARgUAAFAFAABaBQAAZAUAAG4FAAB4BQAAggUAAIwFAACWBQAAoAUAAKoFAAC0BQAAvgUAAMgFAADSBQAA3AUAAOYFAADwBQAA+gUAAAQGAAAOBgAAGAYAACIGAAAsBgAANgYAAEAGAABKBgAAVAYAAF4GAABoBgAAcgYAAHwGAACGBgAAkAYAAJoGAACkBgAArgYAALgGAADCBgAAzAYAANYGAADgBgAA6gYAAPQGAAD+BgAACAcAABIHAAAcBwAAJgcAADAHAAA6BwAARAcAAE4HAABYBwAAYgcAAGwHAAB2BwAAgAcAAIoHAACUBwAAngcAAKgHAACyBwAAvAcAAMYHAADQBwAA2gcAAOQHAADuBwAA+AcAAAIIAAAMCAAAFggAACAIAAAqCAAANAgAAD4IAABICAAAUggAAFwIAABmCAAAcAgAAHoIAACECAAAjggAAJgIAACiCAAArAgAALYIAADACAAAyggAANQIAADeCAAA6AgAAPIIAAD8CAAABgkAABAJAAAaCQAAJAkAAC4JAAA4CQAAQgkAAEwJAABWCQAAYAkAAGoJAAB0CQAAfgkAAIgJAACSCQAAnAkAAKYJAACwCQAAugkAAMQJAADOCQAA2AkAAOIJAADsCQAA9gkAAA==\",\"dtype\":\"int32\",\"shape\":[256]}},\"selected\":{\"id\":\"3716\",\"type\":\"Selection\"},\"selection_policy\":{\"id\":\"3715\",\"type\":\"UnionRenderers\"}},\"id\":\"3569\",\"type\":\"ColumnDataSource\"},{\"attributes\":{},\"id\":\"3558\",\"type\":\"ResetTool\"},{\"attributes\":{\"callback\":null},\"id\":\"3536\",\"type\":\"DataRange1d\"},{\"attributes\":{},\"id\":\"3559\",\"type\":\"HelpTool\"},{\"attributes\":{\"plot\":{\"id\":\"3534\",\"subtype\":\"Figure\",\"type\":\"Plot\"},\"ticker\":{\"id\":\"3545\",\"type\":\"BasicTicker\"}},\"id\":\"3548\",\"type\":\"Grid\"},{\"attributes\":{\"line_alpha\":0.1,\"line_color\":\"#1f77b4\",\"x\":{\"field\":\"x\"},\"y\":{\"field\":\"y\"}},\"id\":\"3571\",\"type\":\"Line\"},{\"attributes\":{},\"id\":\"3716\",\"type\":\"Selection\"},{\"attributes\":{\"items\":[{\"id\":\"3581\",\"type\":\"LegendItem\"}],\"plot\":{\"id\":\"3534\",\"subtype\":\"Figure\",\"type\":\"Plot\"}},\"id\":\"3580\",\"type\":\"Legend\"},{\"attributes\":{\"bottom_units\":\"screen\",\"fill_alpha\":{\"value\":0.5},\"fill_color\":{\"value\":\"lightgrey\"},\"left_units\":\"screen\",\"level\":\"overlay\",\"line_alpha\":{\"value\":1.0},\"line_color\":{\"value\":\"black\"},\"line_dash\":[4,4],\"line_width\":{\"value\":2},\"plot\":null,\"render_mode\":\"css\",\"right_units\":\"screen\",\"top_units\":\"screen\"},\"id\":\"3562\",\"type\":\"BoxAnnotation\"},{\"attributes\":{\"axis_label\":\"T\\u0435\\u043c\\u043f\\u0435\\u0440\\u0430\\u0442\\u0443\\u0440\\u0430, \\u00b0C\",\"formatter\":{\"id\":\"3576\",\"type\":\"BasicTickFormatter\"},\"plot\":{\"id\":\"3534\",\"subtype\":\"Figure\",\"type\":\"Plot\"},\"ticker\":{\"id\":\"3545\",\"type\":\"BasicTicker\"}},\"id\":\"3544\",\"type\":\"LinearAxis\"},{\"attributes\":{},\"id\":\"3576\",\"type\":\"BasicTickFormatter\"},{\"attributes\":{\"data_source\":{\"id\":\"3569\",\"type\":\"ColumnDataSource\"},\"glyph\":{\"id\":\"3570\",\"type\":\"Line\"},\"hover_glyph\":null,\"muted_glyph\":null,\"nonselection_glyph\":{\"id\":\"3571\",\"type\":\"Line\"},\"selection_glyph\":null,\"view\":{\"id\":\"3573\",\"type\":\"CDSView\"}},\"id\":\"3572\",\"type\":\"GlyphRenderer\"},{\"attributes\":{},\"id\":\"3542\",\"type\":\"LinearScale\"},{\"attributes\":{\"source\":{\"id\":\"3569\",\"type\":\"ColumnDataSource\"}},\"id\":\"3573\",\"type\":\"CDSView\"},{\"attributes\":{},\"id\":\"3545\",\"type\":\"BasicTicker\"},{\"attributes\":{},\"id\":\"3540\",\"type\":\"LinearScale\"},{\"attributes\":{\"axis_label\":\"\\u0410\\u0431\\u0441\\u043e\\u043b\\u044e\\u0442\\u043d\\u0430\\u044f \\u0433\\u043b\\u0443\\u0431\\u0438\\u043d\\u0430 (TVD),\\u043c\",\"formatter\":{\"id\":\"3578\",\"type\":\"BasicTickFormatter\"},\"plot\":{\"id\":\"3534\",\"subtype\":\"Figure\",\"type\":\"Plot\"},\"ticker\":{\"id\":\"3550\",\"type\":\"BasicTicker\"}},\"id\":\"3549\",\"type\":\"LinearAxis\"},{\"attributes\":{\"label\":{\"value\":\"\\u0413\\u0435\\u043e\\u0442\\u0435\\u0440\\u043c\\u0430\"},\"renderers\":[{\"id\":\"3572\",\"type\":\"GlyphRenderer\"}]},\"id\":\"3581\",\"type\":\"LegendItem\"},{\"attributes\":{},\"id\":\"3578\",\"type\":\"BasicTickFormatter\"}],\"root_ids\":[\"3534\"]},\"title\":\"Bokeh Application\",\"version\":\"1.0.4\"}};\n",
       "  var render_items = [{\"docid\":\"8907558b-2149-436d-9e65-b14f6b4b1328\",\"roots\":{\"3534\":\"b3e9d94c-ae40-4b32-9fcc-09d91e55dffb\"}}];\n",
       "  root.Bokeh.embed.embed_items_notebook(docs_json, render_items);\n",
       "\n",
       "  }\n",
       "  if (root.Bokeh !== undefined) {\n",
       "    embed_document(root);\n",
       "  } else {\n",
       "    var attempts = 0;\n",
       "    var timer = setInterval(function(root) {\n",
       "      if (root.Bokeh !== undefined) {\n",
       "        embed_document(root);\n",
       "        clearInterval(timer);\n",
       "      }\n",
       "      attempts++;\n",
       "      if (attempts > 100) {\n",
       "        console.log(\"Bokeh: ERROR: Unable to run BokehJS code because BokehJS library is missing\");\n",
       "        clearInterval(timer);\n",
       "      }\n",
       "    }, 10, root)\n",
       "  }\n",
       "})(window);"
      ],
      "application/vnd.bokehjs_exec.v0+json": ""
     },
     "metadata": {
      "application/vnd.bokehjs_exec.v0+json": {
       "id": "3534"
      }
     },
     "output_type": "display_data"
    }
   ],
   "source": [
    "plot = figure(title='Распределение температуры',\n",
    "               x_axis_label='Tемпература, °C',\n",
    "               y_axis_label='Абсолютная глубина (TVD),м',\n",
    "              y_range=(dh[-1],dh[0]),\n",
    "              \n",
    "            )\n",
    "plot.line(tei,dh,legend='Геотерма')\n",
    "show(plot)               "
   ]
  }
 ],
 "metadata": {
  "kernelspec": {
   "display_name": "Python 3",
   "language": "python",
   "name": "python3"
  },
  "language_info": {
   "codemirror_mode": {
    "name": "ipython",
    "version": 3
   },
   "file_extension": ".py",
   "mimetype": "text/x-python",
   "name": "python",
   "nbconvert_exporter": "python",
   "pygments_lexer": "ipython3",
   "version": "3.7.0"
  }
 },
 "nbformat": 4,
 "nbformat_minor": 2
}
