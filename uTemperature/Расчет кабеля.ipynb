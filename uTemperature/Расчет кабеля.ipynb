{
 "cells": [
  {
   "cell_type": "markdown",
   "metadata": {},
   "source": [
    "Расчет максимально допустимой силы тока кабеля УЭЦН по гост Р 51777-2001"
   ]
  },
  {
   "cell_type": "code",
   "execution_count": 5,
   "metadata": {},
   "outputs": [],
   "source": [
    "import numpy as np\n",
    "import math\n",
    "import matplotlib.pyplot as plt"
   ]
  },
  {
   "cell_type": "markdown",
   "metadata": {},
   "source": [
    "Исходные данные"
   ]
  },
  {
   "cell_type": "code",
   "execution_count": 8,
   "metadata": {},
   "outputs": [],
   "source": [
    "\n",
    "#T - длительно допустимая температура нагрева жил кабеля, C\n",
    "#Tср - температура окружающей среды\n",
    "\n",
    "sigmai=400 #удельное сопротивелении изоляции на 1000 м\n",
    "sigma_liquid=104\n",
    "sigma_oil=425\n",
    "sigma_water=1100\n",
    "sigma_o=750 #материала оболочки\n",
    "sigma_b=1000 #материала бандажа поверх оболочки\n",
    "sigma_p=3 #материала подушки под броней\n",
    "tlong=120 #длительно допустимая температура нагрева жилы\n",
    "R=1.15 #электрическое сопротивление токопроводящей жилы\n",
    "d=4.5  #номинальный диаметр токопроводящей жилы, мм\n",
    "d1=7.5  #номинальный наружный диаметр первого слоя изоляции жилы, мм\n",
    "d2=7.5  #номинальный наружный диаметр второго слоя изоляции жилы, мм\n",
    "do=10 #номинальный диаметр оболочки жилы, мм\n",
    "db=11 #номинальный наружный диаметр бандажа поверх оболочки жилы\n",
    "Ds=20 #номинальный диаметр по скрутке жил, мм\n",
    "Dp=12 #номинальный наружный диаметр подушки под броней \n",
    "D=30 # максимальный наружный диаметр круглого кабеля\n",
    "#  максимальные наружные размеры плоского кабеля \n",
    "Dtr=120 #внутренний диаметр обсадной трубы скважины\n",
    "H=12.5 #толщина\n",
    "B=36 #ширина\n",
    "alpha=0.0038 #температурный коэффициент электрического сопротивления материала\n",
    "             #токопроводящей жилы, С-1\n",
    "\n"
   ]
  },
  {
   "cell_type": "markdown",
   "metadata": {},
   "source": [
    "Исходные фунции"
   ]
  },
  {
   "cell_type": "code",
   "execution_count": 9,
   "metadata": {},
   "outputs": [],
   "source": [
    "def s_c(sigmai,dn,Ds,d):\n",
    "    #dn - наружный диаметр основной жилы под подушкой, мм, численно равный\n",
    "    # d1, d2, do или db в зависимости от конструкции кабеля\n",
    "    result=sigmai/6/3.14*math.log(Ds**3/6.8/dn**2/d)\n",
    "    return result #тепловое сопротивление кабеля\n",
    "    \n",
    "def s_env(D,Dtr,sigma_water=sigma_water,sigma_oil=sigma_oil):\n",
    "    #Тепловое сопротивление по Б.2.2.1 в скважинной жидкости нефтяной скважины\n",
    "    result=1/2/3.14*10*(sigma_oil*(1/D+1/Dtr)+sigma_water/D)\n",
    "    return result\n",
    "\n",
    "def rt(R,t,alpha): \n",
    "    #электрическое сопротивление токопроводящей жилы, Ом\n",
    "    result=R*(1+alpha*(t-20))\n",
    "    return result\n",
    "\n",
    "def i(t,t_env,s_c,s_env,rt): \n",
    "    #длительно допустимый ток I, A\n",
    "    result=((t-t_env)*10**5/3/(s_c+s_env)/rt)**(1/2)\n",
    "    return result\n",
    "\n",
    "def tmax(s_c,s_env,rt,i,t):\n",
    "    result=t+3*(s_c+s_env)*rt*i**2/10**5\n",
    "    return result\n",
    "\n"
   ]
  },
  {
   "cell_type": "markdown",
   "metadata": {},
   "source": [
    "## Применение\n",
    "Зависимость длительно допустимого тока от температуры среды при данных условиях"
   ]
  },
  {
   "cell_type": "code",
   "execution_count": 33,
   "metadata": {},
   "outputs": [
    {
     "data": {
      "image/png": "[encoded data removed]",
      "text/plain": [
       "<Figure size 432x288 with 1 Axes>"
      ]
     },
     "metadata": {
      "needs_background": "light"
     },
     "output_type": "display_data"
    }
   ],
   "source": [
    "x=[]\n",
    "y=[]\n",
    "s_c_val=s_c(sigmai,d1,Ds,d)\n",
    "s_env_val=s_env(D,Dtr,sigma_water=sigma_water,sigma_oil=sigma_oil)\n",
    "for k in range(120):\n",
    "    x.append(k)\n",
    "    rt_val=rt(R,k,alpha)\n",
    "    i_val=i(tlong,k,s_c_val,s_env_val,rt_val)\n",
    "    y.append(i_val)\n",
    "\n",
    "plt.plot(x,y,label='Сила тока от температуры среды')\n",
    "plt.xlabel('T среды, град')\n",
    "plt.show()    \n",
    "    \n",
    "    "
   ]
  },
  {
   "cell_type": "code",
   "execution_count": null,
   "metadata": {},
   "outputs": [],
   "source": []
  },
  {
   "cell_type": "code",
   "execution_count": null,
   "metadata": {},
   "outputs": [],
   "source": []
  },
  {
   "cell_type": "code",
   "execution_count": null,
   "metadata": {},
   "outputs": [],
   "source": []
  },
  {
   "cell_type": "code",
   "execution_count": 3,
   "metadata": {},
   "outputs": [],
   "source": [
    "t=100\n",
    "'''print(s_c(sigmai,d1,Ds,d))\n",
    "print(s_env(D,Dtr))\n",
    "print(rt(R,t,alpha))\n",
    "\n",
    "rtt=rt(R,t,alpha)\n",
    "s_cc=s_c(sigmai,d1,Ds,d)\n",
    "s_envv=s_env(D,Dtr)\n",
    "rtt=rt(R,t,alpha)\n",
    "ii=i(130,100,s_cc,s_envv,rtt)\n",
    "print(i(130,100,s_cc,s_envv,rtt))\n",
    "print(tmax(s_cc,s_envv,rtt,ii,t))'''\n",
    "x=[]\n",
    "y=[]\n",
    "z=0\n",
    "for k in range(1,10,1):\n",
    "    z=k*0.1\n",
    "    t=120 #температора среды\n",
    "    minus=-z\n",
    "    D=D+minus\n",
    "    d1=d1+minus\n",
    "    Ds=Ds+minus\n",
    "    x.append(D)\n",
    "    #rtt=rt(R,t,alpha)\n",
    "    s_cc=s_c(sigmai,d1,Ds,d)\n",
    "    s_envv=s_env(D,Dtr)\n",
    "    rtt=rt(R,120,alpha)\n",
    "    #ii=i(90,80,s_cc,s_envv,rtt)\n",
    "    tmaxx=tmax(s_cc,s_envv,rtt,60,t)\n",
    "    y.append(tmaxx)\n",
    "    '''print(tmaxx)\n",
    "    print(str(D)+'ll')'''\n",
    "    \n",
    "\n",
    "    \n",
    "    "
   ]
  },
  {
   "cell_type": "code",
   "execution_count": 4,
   "metadata": {},
   "outputs": [
    {
     "data": {
      "image/png": "[encoded data removed]",
      "text/plain": [
       "<Figure size 432x288 with 1 Axes>"
      ]
     },
     "metadata": {
      "needs_background": "light"
     },
     "output_type": "display_data"
    }
   ],
   "source": [
    "import matplotlib.pyplot as plt\n",
    "plt.plot(x,y,label='')\n",
    "'''plt.ylabel('natural sep')\n",
    "plt.xlabel('qliq_scm3day')\n",
    "plt.title('trouble with sigma_o, wct_perc=22')\n",
    "plt.legend()'''\n",
    "plt.show()"
   ]
  },
  {
   "cell_type": "code",
   "execution_count": null,
   "metadata": {},
   "outputs": [],
   "source": []
  },
  {
   "cell_type": "code",
   "execution_count": null,
   "metadata": {},
   "outputs": [],
   "source": []
  }
 ],
 "metadata": {
  "kernelspec": {
   "display_name": "Python 3",
   "language": "python",
   "name": "python3"
  },
  "language_info": {
   "codemirror_mode": {
    "name": "ipython",
    "version": 3
   },
   "file_extension": ".py",
   "mimetype": "text/x-python",
   "name": "python",
   "nbconvert_exporter": "python",
   "pygments_lexer": "ipython3",
   "version": "3.7.0"
  }
 },
 "nbformat": 4,
 "nbformat_minor": 2
}
