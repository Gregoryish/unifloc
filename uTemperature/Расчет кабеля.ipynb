{
 "cells": [
  {
   "cell_type": "markdown",
   "metadata": {},
   "source": [
    "Расчет максимально допустимой силы тока кабеля УЭЦН по гост Р 51777-2001"
   ]
  },
  {
   "cell_type": "markdown",
   "metadata": {},
   "source": [
    "345 КЭСБП 230 3 16 РОССКАТ и СН МНГ 1715\n",
    "11428 РОССКАТ\n",
    "727 РОССКАТ П-16 2110\n"
   ]
  },
  {
   "cell_type": "code",
   "execution_count": 93,
   "metadata": {},
   "outputs": [],
   "source": [
    "import numpy as np\n",
    "import math\n",
    "import matplotlib.pyplot as plt\n",
    "from scipy.optimize import fsolve"
   ]
  },
  {
   "cell_type": "markdown",
   "metadata": {},
   "source": [
    "Исходные данные"
   ]
  },
  {
   "cell_type": "code",
   "execution_count": 94,
   "metadata": {},
   "outputs": [],
   "source": [
    "\n",
    "#T - длительно допустимая температура нагрева жил кабеля, C\n",
    "#Tср - температура окружающей среды\n",
    "\n",
    "sigmai=400 #удельное сопротивелении изоляции на 1000 м\n",
    "sigma_liquid=104\n",
    "sigma_oil=425\n",
    "sigma_water=1100\n",
    "sigma_o=750 #материала оболочки\n",
    "sigma_b=1000 #материала бандажа поверх оболочки\n",
    "sigma_p=3 #материала подушки под броней\n",
    "tlong=120 #длительно допустимая температура нагрева жилы\n",
    "R=1.15 #электрическое сопротивление токопроводящей жилы\n",
    "d=4.5  #номинальный диаметр токопроводящей жилы, мм\n",
    "d1=7.5  #номинальный наружный диаметр первого слоя изоляции жилы, мм\n",
    "d2=7.5  #номинальный наружный диаметр второго слоя изоляции жилы, мм\n",
    "do=10 #номинальный диаметр оболочки жилы, мм\n",
    "db=11 #номинальный наружный диаметр бандажа поверх оболочки жилы\n",
    "Ds=20 #номинальный диаметр по скрутке жил, мм\n",
    "Dp=12 #номинальный наружный диаметр подушки под броней \n",
    "D=30 # максимальный наружный диаметр круглого кабеля\n",
    "#  максимальные наружные размеры плоского кабеля \n",
    "Dtr=120 #внутренний диаметр обсадной трубы скважины\n",
    "H=12.5 #толщина\n",
    "B=36 #ширина\n",
    "alpha=0.0038 #температурный коэффициент электрического сопротивления материала\n",
    "             #токопроводящей жилы, С-1\n",
    "\n"
   ]
  },
  {
   "cell_type": "markdown",
   "metadata": {},
   "source": [
    "Исходные фунции"
   ]
  },
  {
   "cell_type": "code",
   "execution_count": 95,
   "metadata": {},
   "outputs": [],
   "source": [
    "def s_c(sigmai,dn,Ds,d):\n",
    "    #dn - наружный диаметр основной жилы под подушкой, мм, численно равный\n",
    "    # d1, d2, do или db в зависимости от конструкции кабеля\n",
    "    result=sigmai/6/3.14*math.log(Ds**3/6.8/dn**2/d)\n",
    "    return result #тепловое сопротивление кабеля\n",
    "    \n",
    "def s_env(D,Dtr,sigma_water=sigma_water,sigma_oil=sigma_oil):\n",
    "    #Тепловое сопротивление по Б.2.2.1 в скважинной жидкости нефтяной скважины\n",
    "    result=1/2/3.14*10*(sigma_oil*(1/D+1/Dtr)+sigma_water/D)\n",
    "    return result\n",
    "\n",
    "def rt(R,t,alpha): \n",
    "    #электрическое сопротивление токопроводящей жилы, Ом\n",
    "    result=R*(1+alpha*(t-20))\n",
    "    return result\n",
    "\n",
    "def calc_i(t,t_env,s_c,s_env,rt): \n",
    "    #длительно допустимый ток I, A\n",
    "    result=((t-t_env)*10**5/3/(s_c+s_env)/rt)**(1/2)\n",
    "    return result\n",
    "\n",
    "def tmax(s_c,s_env,rt,i,t):\n",
    "    result=t+3*(s_c+s_env)*rt*i**2/10**5\n",
    "    return result\n",
    "\n"
   ]
  },
  {
   "cell_type": "code",
   "execution_count": 96,
   "metadata": {},
   "outputs": [],
   "source": [
    "class Save_temp_cable_c(object):\n",
    "    \"\"\"\n",
    "    Класс для сохранения значений температуры внутри функции\n",
    "    temp_fluid, в которой решения выполняются итеративно\n",
    "    с помощью fsolve()\n",
    "    \"\"\"\n",
    " \n",
    "    def __init__(self, init):\n",
    "        \"\"\"\n",
    "        Начальное значение температуры\n",
    "        \"\"\"\n",
    "        self.temp_cable_c = init\n",
    "\n",
    "    def save(self,value):\n",
    "        \"\"\"\n",
    "        Сохранение вычисленных значений T в класс\n",
    "        \"\"\"\n",
    "        self.temp_fluid_c=value"
   ]
  },
  {
   "cell_type": "code",
   "execution_count": 97,
   "metadata": {},
   "outputs": [],
   "source": [
    "def t_cabel(tf_c,i,rt,s_cable,s_env):\n",
    "    result = (i**2)*(s_cable+s_env)*rt*3/10**5+tf_c\n",
    "    return result"
   ]
  },
  {
   "cell_type": "code",
   "execution_count": 98,
   "metadata": {},
   "outputs": [],
   "source": [
    "import numpy as np"
   ]
  },
  {
   "cell_type": "code",
   "execution_count": 112,
   "metadata": {},
   "outputs": [
    {
     "name": "stdout",
     "output_type": "stream",
     "text": [
      "32.619761584269824\n",
      "86.58439490445859\n"
     ]
    }
   ],
   "source": [
    "delta0=10\n",
    "print(s_c_val)\n",
    "print(s_env_val)"
   ]
  },
  {
   "cell_type": "code",
   "execution_count": 113,
   "metadata": {},
   "outputs": [],
   "source": [
    "\n",
    "def calc_all(tf_c,i):\n",
    "    data_temp=Save_temp_cable_c(None)\n",
    "    #i=np.asarray(tf_c)*0+i\n",
    "    delta0=tf_c*0+10\n",
    "    #экземляр класса для хранения вычисленных данных\n",
    "    def calc_temp_cable(val_t_cabel1):\n",
    "        s_c_val=s_c(sigmai,d1,Ds,d)\n",
    "        s_env_val=s_env(D,Dtr,sigma_water=sigma_water,sigma_oil=sigma_oil)\n",
    "        rt_val=rt(R,val_t_cabel1,alpha)\n",
    "        val_t_cabel2=t_cabel(tf_c,i,rt_val,s_c_val,s_env_val)\n",
    "        data_temp.save((val_t_cabel2)) \n",
    "        #print(val_t_cabel2)\n",
    "        #print(val_t_cabel2)\n",
    "        #сохранения в экземляр значений температуры\n",
    "        return val_t_cabel2-val_t_cabel1\n",
    "    delta=fsolve(calc_temp_cable,delta0)\n",
    "    #print(delta)\n",
    "    return delta\n",
    "    #return data_temp.temp_cable_c\n"
   ]
  },
  {
   "cell_type": "code",
   "execution_count": 114,
   "metadata": {},
   "outputs": [
    {
     "name": "stdout",
     "output_type": "stream",
     "text": [
      "[133.91984153]\n"
     ]
    }
   ],
   "source": [
    "#print(data_temp.temp_cable_c)\n",
    "print(calc_all(60,112))"
   ]
  },
  {
   "cell_type": "code",
   "execution_count": 131,
   "metadata": {
    "scrolled": true
   },
   "outputs": [
    {
     "data": {
      "image/png": "[encoded data removed]",
      "text/plain": [
       "<Figure size 432x288 with 1 Axes>"
      ]
     },
     "metadata": {
      "needs_background": "light"
     },
     "output_type": "display_data"
    }
   ],
   "source": [
    "a=30\n",
    "x=[]\n",
    "y=[]\n",
    "s_c_val=s_c(sigmai,d1,Ds,d)\n",
    "s_env_val=s_env(D,Dtr,sigma_water=sigma_water,sigma_oil=sigma_oil)\n",
    "for k in range(121):\n",
    "    x.append(k)\n",
    "\n",
    "#x=np.asarray(x)\n",
    "x=np.arange(1,120)\n",
    "i_val=x*0+20\n",
    "\n",
    "y=calc_all(x,i_val)\n",
    "delta_t=y-x\n",
    "leg=[]\n",
    "#plt.plot(x,y,label='Температура кабеля от температуры среды при токе I='+str(i))\n",
    "for k in range(5,40,5):\n",
    "    i_val=x*0+k\n",
    "    legg='Сила тока I, A='+str(k)\n",
    "    leg.append(legg)\n",
    "    y=calc_all(x,i_val)\n",
    "    delta_t=y-x\n",
    "    plt.plot(x,delta_t)\n",
    "\n",
    "leg=tuple(leg)\n",
    "plt.legend(leg)\n",
    "    \n",
    "\n",
    "plt.xlabel('T среды, град')\n",
    "plt.ylabel('Разница между T среды и кабелем, град')\n",
    "#plt.label()\n",
    "plt.title('Разница температур от силы тока')\n",
    "plt.show() \n",
    "#print(y)\n"
   ]
  },
  {
   "cell_type": "markdown",
   "metadata": {},
   "source": [
    "Расчет допустимого тока и обратный расчет допустимой температуры нагрева жил кабеля"
   ]
  },
  {
   "cell_type": "code",
   "execution_count": 143,
   "metadata": {},
   "outputs": [
    {
     "name": "stdout",
     "output_type": "stream",
     "text": [
      "72.70526088759826\n",
      "[120.]\n"
     ]
    }
   ],
   "source": [
    "\n",
    "t_fluid=90\n",
    "\n",
    "s_c_val=s_c(sigmai,d1,Ds,d)\n",
    "s_env_val=s_env(D,Dtr,sigma_water=sigma_water,sigma_oil=sigma_oil)\n",
    "rt_val=rt(R,120,alpha)\n",
    "i_val=calc_i(tlong,t_fluid,s_c_val,s_env_val,rt_val)\n",
    "print(i_val)\n",
    "print(calc_all(t_fluid,i_val))"
   ]
  },
  {
   "cell_type": "markdown",
   "metadata": {},
   "source": [
    "## Применение\n",
    "Зависимость длительно допустимого тока от температуры среды при данных условиях"
   ]
  },
  {
   "cell_type": "code",
   "execution_count": 129,
   "metadata": {},
   "outputs": [
    {
     "data": {
      "image/png": "[encoded data removed]",
      "text/plain": [
       "<Figure size 432x288 with 1 Axes>"
      ]
     },
     "metadata": {
      "needs_background": "light"
     },
     "output_type": "display_data"
    }
   ],
   "source": [
    "x=[]\n",
    "y=[]\n",
    "s_c_val=s_c(sigmai,d1,Ds,d)\n",
    "s_env_val=s_env(D,Dtr,sigma_water=sigma_water,sigma_oil=sigma_oil)\n",
    "for k in range(121):\n",
    "    x.append(k)\n",
    "    rt_val=rt(R,120,alpha)\n",
    "    i_val=calc_i(tlong,k,s_c_val,s_env_val,rt_val)\n",
    "    y.append(i_val)\n",
    "\n",
    "plt.plot(x,y,label='Сила тока от температуры среды')\n",
    "plt.xlabel('T среды, град')\n",
    "plt.ylabel('Длительно допустимый ток, А')\n",
    "plt.title('Сила тока от температуры среды')\n",
    "plt.show()    \n",
    "\n",
    "    \n",
    "    "
   ]
  },
  {
   "cell_type": "markdown",
   "metadata": {},
   "source": [
    "## Температура кабеля от температуры среды при данном токе "
   ]
  },
  {
   "cell_type": "code",
   "execution_count": null,
   "metadata": {},
   "outputs": [],
   "source": []
  },
  {
   "cell_type": "code",
   "execution_count": null,
   "metadata": {},
   "outputs": [],
   "source": []
  },
  {
   "cell_type": "code",
   "execution_count": null,
   "metadata": {},
   "outputs": [],
   "source": []
  },
  {
   "cell_type": "code",
   "execution_count": 78,
   "metadata": {},
   "outputs": [
    {
     "data": {
      "image/png": "[encoded data removed]",
      "text/plain": [
       "<Figure size 432x288 with 1 Axes>"
      ]
     },
     "metadata": {
      "needs_background": "light"
     },
     "output_type": "display_data"
    }
   ],
   "source": [
    "t=100\n",
    "'''print(s_c(sigmai,d1,Ds,d))\n",
    "print(s_env(D,Dtr))\n",
    "print(rt(R,t,alpha))\n",
    "\n",
    "rtt=rt(R,t,alpha)\n",
    "s_cc=s_c(sigmai,d1,Ds,d)\n",
    "s_envv=s_env(D,Dtr)\n",
    "rtt=rt(R,t,alpha)\n",
    "ii=i(130,100,s_cc,s_envv,rtt)\n",
    "print(i(130,100,s_cc,s_envv,rtt))\n",
    "print(tmax(s_cc,s_envv,rtt,ii,t))'''\n",
    "x=[]\n",
    "y=[]\n",
    "z=0\n",
    "for k in range(1,10,1):\n",
    "    z=k*0.1\n",
    "    t=120 #температора среды\n",
    "    minus=-z\n",
    "    D=D+minus\n",
    "    d1=d1+minus\n",
    "    Ds=Ds+minus\n",
    "    x.append(D)\n",
    "    #rtt=rt(R,t,alpha)\n",
    "    s_cc=s_c(sigmai,d1,Ds,d)\n",
    "    s_envv=s_env(D,Dtr)\n",
    "    rtt=rt(R,120,alpha)\n",
    "    #ii=i(90,80,s_cc,s_envv,rtt)\n",
    "    tmaxx=tmax(s_cc,s_envv,rtt,60,t)\n",
    "    y.append(tmaxx)\n",
    "    '''print(tmaxx)\n",
    "    print(str(D)+'ll')'''\n",
    "    \n",
    "\n",
    "plt.plot(x,y,label='Температура кабеля от сечения')\n",
    "plt.xlabel('T среды, град')\n",
    "plt.show() \n",
    "    \n",
    "    "
   ]
  },
  {
   "cell_type": "code",
   "execution_count": 79,
   "metadata": {},
   "outputs": [
    {
     "data": {
      "image/png": "[encoded data removed]",
      "text/plain": [
       "<Figure size 432x288 with 1 Axes>"
      ]
     },
     "metadata": {
      "needs_background": "light"
     },
     "output_type": "display_data"
    }
   ],
   "source": [
    "import matplotlib.pyplot as plt\n",
    "plt.plot(x,y,label='')\n",
    "'''plt.ylabel('natural sep')\n",
    "plt.xlabel('qliq_scm3day')\n",
    "plt.title('trouble with sigma_o, wct_perc=22')\n",
    "plt.legend()'''\n",
    "plt.show()"
   ]
  },
  {
   "cell_type": "code",
   "execution_count": null,
   "metadata": {},
   "outputs": [],
   "source": []
  },
  {
   "cell_type": "code",
   "execution_count": null,
   "metadata": {},
   "outputs": [],
   "source": []
  }
 ],
 "metadata": {
  "kernelspec": {
   "display_name": "Python 3",
   "language": "python",
   "name": "python3"
  },
  "language_info": {
   "codemirror_mode": {
    "name": "ipython",
    "version": 3
   },
   "file_extension": ".py",
   "mimetype": "text/x-python",
   "name": "python",
   "nbconvert_exporter": "python",
   "pygments_lexer": "ipython3",
   "version": "3.7.0"
  }
 },
 "nbformat": 4,
 "nbformat_minor": 2
}
