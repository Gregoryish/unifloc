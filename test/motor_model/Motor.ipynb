{
 "cells": [
  {
   "cell_type": "markdown",
   "metadata": {},
   "source": [
    "# Моделирование ПЭД\n",
    "\n",
    "ПЭД - является асинхронным двигателем. Моделирование АД выполнялось при помощи схемы замещения\n",
    "\n",
    "\n"
   ]
  },
  {
   "cell_type": "markdown",
   "metadata": {},
   "source": [
    "\n",
    "## Г - образная схема замещения\n",
    "\n",
    "<img  src=\"pict/G_circuit.png\" width=\"600\"  >\n",
    "\n",
    "\n",
    "### 1 Расчет параметров схемы замещения\n",
    "\n",
    "#### 1.1 Расчет активных и индуктивных сопративлений \n",
    "\n",
    "$$ξ =  \\frac{M_{ЭМН}}{М_Н} $$\n",
    "\n",
    "Рекомендуется принять 1.05\n",
    "\n",
    "Расчет вспомогательных коэффициентов:\n",
    "\n",
    "$$a = \\frac{\\alpha_0}{ξ} \\frac{1 - \\eta_n}{\\eta_n} \\frac{1 - s_n}{s_n} - 1 $$\n",
    "\n",
    "$$ R_m =\\frac{3 U_n^2 (1-s_n)}{2 P_{2n} (\\lambda + ξ -1)} $$\n",
    "\n",
    "$$ G = \\frac {1}{s_n^2} + \\frac{2a}{s_n} + a^2$$\n",
    "\n",
    "$$ b = \\frac{\\lambda + ξ -1 }{ξ} $$\n",
    "\n",
    "Активное сопротивление обмотки ротора:\n",
    "$$ r_2' = \\frac{R_m}{G} (\\frac{b}{s_n} + a + \\sqrt{({(\\frac{b}{s_n} + a)}^2 - G)}) $$\n",
    "\n",
    "Активное сопротивление обмотки статора:\n",
    "\n",
    "$$ r_1 = a r_2'$$\n",
    "\n",
    "Индуктивное сопротивление обмоток для режима холостого хода:\n",
    "$$ x_k = \\sqrt{R_m^2 -2R_m r_1} $$\n",
    "\n",
    "---\n",
    "После нахождения сопротивлений возможно необходима проверка(или подгонка коэффициентов, для сходимости  ${P_2 \\ или \\ \\ \\lambda}$ )\n",
    "\n",
    "$$ P_{2n} = \\frac{3 U_n^2(1-s_n) r_2'/s_n}{ξ((r_1 + r_2'/s_n)^2 + x_k^2)} $$\n",
    "\n",
    "$$ \\lambda = \\frac{3U_n^2}{2P_{2n}} \\frac{1-s_n}{r_1 + \\sqrt{r_1^2 + x_k^2}} +1-ξ$$\n",
    "\n",
    "\n",
    "#### 1.2 Расчет характеристик АД при режиме холостого хода\n",
    "Потребляемая мощность:\n",
    "$$ P_{1n} = \\frac{P_{2n}}{\\eta_n} $$\n",
    "\n",
    "Потребляемый ток:\n",
    "$$ I_{1n} = \\frac{P_{1n}}{3 \\ U_n \\ cos\\varphi_n} $$\n",
    "\n",
    "Приведенный ток в обмотке ротора;\n",
    "$$ I_{2n}' = \\frac{U_n}{\\sqrt{x_k^2 + (r_2'/s_n + r_1)^2}} $$\n",
    "\n",
    "Угол между $I_{1n} \\  и \\  U_n$\n",
    "$$ \\varphi_n = acos(cos\\varphi_n) $$\n",
    "\n",
    "Угол между $I_{2n} \\  и \\  U_n$\n",
    "\n",
    "$$ \\varphi_{2n} = arctg \\frac{x_k}{r_1 + r_2'/s_n } $$\n",
    "\n",
    "Ток холостого хода:\n",
    "\n",
    "$$ I_0 = \\sqrt{I_{1n}^2 +I_{2n}'^2 - 2 \\ I_{2n}' \\ I_{1n} \\ cos(\\varphi_n - \\varphi_{2n}) } $$\n",
    "Угол между $I_{1n} \\  и \\  I_{0}$\n",
    "\n",
    "$$ \\varphi_x = arccos\\frac{I_{1n} \\ cos\\varphi_n - I_{2n}' cos\\varphi_{2n}}{I_0} $$\n",
    "\n",
    "Расписать про поправочный коэффициент Гридина для $I_0$ \n",
    "\n",
    "### 2. Механическая характеристика АД\n",
    "\n",
    "Под механической характеристикой будем понимать зависимость параметров работы АД от скольжения \n",
    "\n",
    "Номинальная частота вращения ротора:\n",
    "$$ f_n = f_o \\ (1-s_n) $$\n",
    "\n",
    "Номинальный момент:\n",
    "$$ M_n = \\frac{P_{2n}}{2 \\ \\pi \\ f_n} $$\n",
    "\n",
    "Момент холостого хода:\n",
    "$$M_0 = M_n \\ (\\lambda -1 )$$\n",
    "\n",
    "Момент ротора:\n",
    "$$ M = \\frac {3 \\ U^2 \\ r_2'/s}{2 \\ \\pi \\ f_n \\ ({x_k^2 + (r_2'/s + r_1)^2})} - M_0 $$\n",
    "\n",
    "Приведенный ток в роторе: \n",
    "$$ I_2' = \\frac{U}{\\sqrt{x_k^2 + {(r_1 + r_2'\\ /\\ s) \\ ^2}}} $$\n",
    "\n",
    "Угол между $I_{2} \\  и \\  U$\n",
    "$$ \\varphi_2 = arctg \\frac{x_k}{r_1 + r_2'/s } $$\n",
    "\n",
    "Потребляемый ток статором:\n",
    "$$ I_1 =  \\sqrt{I_{0}^2 +I_{2}'^2 + 2 \\ I_{2}' \\ I_{x} \\ cos(\\varphi_x - \\varphi_{2}) } $$\n",
    "\n",
    "Коэффициент мощности:\n",
    "$$ cos \\varphi = \\frac{I_{0} \\ cos\\varphi_x + I_{2}' cos\\varphi_{2}}{I_1} $$\n",
    "\n",
    "Частота вращения:\n",
    "$$ n = 2  \\pi  f \\ (1 - s) $$\n",
    "\n",
    "Потребляемая мощность статором:\n",
    "$$P_1 = 3 U I_1 cos\\varphi $$\n",
    "\n",
    "Развиваемая можность ротором:\n",
    "$$P_2 = M \\  2  \\pi  f $$\n",
    "\n",
    "КПД:\n",
    "$$\\eta = \\frac{P_2}{P_1} $$"
   ]
  },
  {
   "cell_type": "code",
   "execution_count": 1,
   "metadata": {},
   "outputs": [],
   "source": [
    "# Параметры АД для теста(ПЭДН32-117-1000 Новотет)\n",
    "\n",
    "nom_power__kW = 32\n",
    "nom_voltage__V = 1000\n",
    "nom_current__A = 26\n",
    "nom_efficient = 0.835\n",
    "nom_cos = 0.84\n",
    "nom_slip = 0.05\n",
    "\n",
    "work_voltage__V = 1000\n",
    "frequency__Hz = 50"
   ]
  },
  {
   "cell_type": "code",
   "execution_count": 10,
   "metadata": {},
   "outputs": [
    {
     "name": "stdout",
     "output_type": "stream",
     "text": [
      "r_2' Om: 3.603777933354165 r_1 Om: 4.256712207335698 x_k Om: 16.939193439480512\n"
     ]
    }
   ],
   "source": [
    "from g_circuit import calc_g_circuit, calc_resistances\n",
    "\n",
    "import numpy as np\n",
    "import matplotlib.pyplot as plt\n",
    "import matplotlib.pyplot as plt\n",
    "\n",
    "\n",
    "# Сопротивление схемы замещения расчитаем по методике\n",
    "r_2, r_1, x_k = calc_resistances(nom_power__W=nom_power__kW * 1e3,\n",
    "                                 nom_voltage__V=nom_voltage__V,\n",
    "                                 nom_slip=nom_slip,\n",
    "                                 nom_efficient=nom_efficient,\n",
    "                                 motor_lamda=2)\n",
    "print('r_2\\' Om:',r_2,'r_1 Om:', r_1, 'x_k Om:', x_k)"
   ]
  },
  {
   "cell_type": "code",
   "execution_count": 11,
   "metadata": {},
   "outputs": [],
   "source": [
    "slip = np.arange(0.01, 0.96, 0.01)\n",
    "M_ = []\n",
    "cos_ = []\n",
    "efficient_ = []\n",
    "I1_ = []\n",
    "for s in slip: \n",
    "    M__Nm,  cos_fi, efficient, I1__A =   calc_g_circuit(s, nom_power__kW, nom_voltage__V,\n",
    "                                                        nom_slip, nom_efficient, nom_cos, 2, \n",
    "                                                        frequency__Hz, work_voltage__V, \n",
    "                                                        r_1, r_2, x_k)\n",
    "    M_.append(M__Nm)\n",
    "    cos_.append(cos_fi)\n",
    "    efficient_.append(efficient)\n",
    "    I1_.append(I1__A)"
   ]
  },
  {
   "cell_type": "code",
   "execution_count": 4,
   "metadata": {},
   "outputs": [
    {
     "ename": "NameError",
     "evalue": "name 'plt' is not defined",
     "output_type": "error",
     "traceback": [
      "\u001b[0;31m---------------------------------------------------------------------------\u001b[0m",
      "\u001b[0;31mNameError\u001b[0m                                 Traceback (most recent call last)",
      "\u001b[0;32m<ipython-input-4-d8a38de09f86>\u001b[0m in \u001b[0;36m<module>\u001b[0;34m()\u001b[0m\n\u001b[0;32m----> 1\u001b[0;31m \u001b[0mplt\u001b[0m\u001b[0;34m.\u001b[0m\u001b[0mfigure\u001b[0m\u001b[0;34m(\u001b[0m\u001b[0mfigsize\u001b[0m\u001b[0;34m=\u001b[0m\u001b[0;34m(\u001b[0m\u001b[0;36m15\u001b[0m\u001b[0;34m,\u001b[0m\u001b[0;36m8\u001b[0m\u001b[0;34m)\u001b[0m\u001b[0;34m)\u001b[0m\u001b[0;34m\u001b[0m\u001b[0m\n\u001b[0m\u001b[1;32m      2\u001b[0m \u001b[0mplt\u001b[0m\u001b[0;34m.\u001b[0m\u001b[0mplot\u001b[0m\u001b[0;34m(\u001b[0m\u001b[0mslip\u001b[0m\u001b[0;34m,\u001b[0m \u001b[0mM_\u001b[0m\u001b[0;34m,\u001b[0m \u001b[0mlabel\u001b[0m\u001b[0;34m=\u001b[0m\u001b[0;34m'Момент'\u001b[0m\u001b[0;34m)\u001b[0m\u001b[0;34m\u001b[0m\u001b[0m\n\u001b[1;32m      3\u001b[0m \u001b[0mplt\u001b[0m\u001b[0;34m.\u001b[0m\u001b[0mplot\u001b[0m\u001b[0;34m(\u001b[0m\u001b[0mslip\u001b[0m\u001b[0;34m,\u001b[0m \u001b[0;34m[\u001b[0m\u001b[0mcos\u001b[0m \u001b[0;34m*\u001b[0m \u001b[0;36m100\u001b[0m \u001b[0;32mfor\u001b[0m \u001b[0mcos\u001b[0m \u001b[0;32min\u001b[0m \u001b[0mcos_\u001b[0m\u001b[0;34m]\u001b[0m\u001b[0;34m,\u001b[0m \u001b[0mlabel\u001b[0m\u001b[0;34m=\u001b[0m\u001b[0;34m'cos'\u001b[0m\u001b[0;34m)\u001b[0m\u001b[0;34m\u001b[0m\u001b[0m\n\u001b[1;32m      4\u001b[0m \u001b[0mplt\u001b[0m\u001b[0;34m.\u001b[0m\u001b[0mplot\u001b[0m\u001b[0;34m(\u001b[0m\u001b[0mslip\u001b[0m\u001b[0;34m,\u001b[0m \u001b[0;34m[\u001b[0m\u001b[0meff\u001b[0m\u001b[0;34m*\u001b[0m\u001b[0;36m100\u001b[0m \u001b[0;32mfor\u001b[0m \u001b[0meff\u001b[0m \u001b[0;32min\u001b[0m \u001b[0mefficient_\u001b[0m\u001b[0;34m]\u001b[0m\u001b[0;34m,\u001b[0m \u001b[0mlabel\u001b[0m\u001b[0;34m=\u001b[0m\u001b[0;34m' КПД'\u001b[0m\u001b[0;34m)\u001b[0m\u001b[0;34m\u001b[0m\u001b[0m\n\u001b[1;32m      5\u001b[0m \u001b[0mplt\u001b[0m\u001b[0;34m.\u001b[0m\u001b[0mplot\u001b[0m\u001b[0;34m(\u001b[0m\u001b[0mslip\u001b[0m\u001b[0;34m,\u001b[0m \u001b[0mI1_\u001b[0m\u001b[0;34m,\u001b[0m \u001b[0mlabel\u001b[0m\u001b[0;34m=\u001b[0m\u001b[0;34m'Ток'\u001b[0m\u001b[0;34m)\u001b[0m\u001b[0;34m\u001b[0m\u001b[0m\n",
      "\u001b[0;31mNameError\u001b[0m: name 'plt' is not defined"
     ]
    }
   ],
   "source": [
    "plt.figure(figsize=(15,8))\n",
    "plt.plot(slip, M_, label='Момент')\n",
    "plt.plot(slip, [cos * 100 for cos in cos_], label='cos')\n",
    "plt.plot(slip, [eff*100 for eff in efficient_], label=' КПД')\n",
    "plt.plot(slip, I1_, label='Ток')\n",
    "plt.xlabel('slip')\n",
    "plt.ylabel('M, I, КПД, cos')\n",
    "plt.legend()\n",
    "plt.show()"
   ]
  },
  {
   "cell_type": "code",
   "execution_count": null,
   "metadata": {},
   "outputs": [],
   "source": []
  }
 ],
 "metadata": {
  "kernelspec": {
   "display_name": "Python 3",
   "language": "python",
   "name": "python3"
  },
  "language_info": {
   "codemirror_mode": {
    "name": "ipython",
    "version": 3
   },
   "file_extension": ".py",
   "mimetype": "text/x-python",
   "name": "python",
   "nbconvert_exporter": "python",
   "pygments_lexer": "ipython3",
   "version": "3.6.5"
  }
 },
 "nbformat": 4,
 "nbformat_minor": 2
}
