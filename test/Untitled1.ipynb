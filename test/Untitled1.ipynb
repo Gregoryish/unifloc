{
 "cells": [
  {
   "cell_type": "code",
   "execution_count": 1,
   "metadata": {
    "collapsed": true
   },
   "outputs": [],
   "source": [
    "import numpy as np\n",
    "import matplotlib as mpl\n",
    "import matplotlib.pyplot as plt\n",
    "from sympy import *"
   ]
  },
  {
   "cell_type": "code",
   "execution_count": 71,
   "metadata": {},
   "outputs": [
    {
     "name": "stdout",
     "output_type": "stream",
     "text": [
      "0.499938837248443\n"
     ]
    }
   ],
   "source": [
    "d0_mm=25.4  # диаметр отверстия\n",
    "d1_mm=50 # диаметр трубы\n",
    "dc_mm=8 # диаметр критического расходомера\n",
    "p1_atm=50 # давление перед отверстием\n",
    "p2_atm=30 # давление после отверстия\n",
    "p_atm=50 # давление между критическим и докритическим расходомером (фактически тоже самое что до)\n",
    "A=0.99998\n",
    "B=1.38\n",
    "a=37.037\n",
    "b=0.345\n",
    "pd_pu=0.5\n",
    " # CoFaY2=0.000058  коэффициент теплового расширения отверстия для стали нужно умножить 7.2*10^(-6) на изменение температуры\n",
    "CoFaY2=1.2379\n",
    "vfg_m3kg=57.8 # удельный объем пара\n",
    "vf_m3kg=0.001# удельный объем жидкости\n",
    "X=20\n",
    "def pd_pu(CoFaY2):\n",
    "    d0_in=d0_mm/25.4 #дюймы\n",
    "    d1_in=d1_mm/25.4\n",
    "    dc_in=dc_mm/25.4\n",
    "    beta=d0_in/d1_in\n",
    "    p1_psi=p1_atm*14.2233\n",
    "    p2_psi=p2_atm*14.2233\n",
    "    f_atm=p1_atm-p2_atm  # падение давления в отверстии\n",
    "    f_psi=f_atm*14.2233\n",
    "    p_psi=p_atm*14.2233\n",
    "    vfg=vfg_m3kg*16.01845\n",
    "    vf=vf_m3kg*16.01845\n",
    "    K=(1888.56*CoFaY2)**2*(d0_in/dc_in)**4/(1-beta**4)\n",
    "    pd_pu=1-((((X/100)**B+vf/(vfg*A))/((K/A*(X/100)**(2*b))/(vfg*a**2)))*p1_psi)\n",
    "    return pd_pu\n",
    "print(pd_pu(CoFaY2))"
   ]
  },
  {
   "cell_type": "code",
   "execution_count": null,
   "metadata": {
    "collapsed": true
   },
   "outputs": [],
   "source": []
  },
  {
   "cell_type": "code",
   "execution_count": null,
   "metadata": {
    "collapsed": true
   },
   "outputs": [],
   "source": []
  }
 ],
 "metadata": {
  "kernelspec": {
   "display_name": "Python 3",
   "language": "python",
   "name": "python3"
  },
  "language_info": {
   "codemirror_mode": {
    "name": "ipython",
    "version": 3
   },
   "file_extension": ".py",
   "mimetype": "text/x-python",
   "name": "python",
   "nbconvert_exporter": "python",
   "pygments_lexer": "ipython3",
   "version": "3.6.1"
  }
 },
 "nbformat": 4,
 "nbformat_minor": 2
}
