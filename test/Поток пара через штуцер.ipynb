{
 "cells": [
  {
   "cell_type": "markdown",
   "metadata": {},
   "source": [
    "\n",
    "# Модель режима потока пара через штуцер\n",
    "## $ Q_г=28.31993658 Q_{крит} $\n",
    "\n",
    "### $ при:   \\frac{P_d}{P_o} <= (\\frac{P_d}{P_o})_{крит}  $     \n",
    "\n",
    "##  $и$\n",
    "\n",
    "## $ Q_г=28.31993658 Q_{крит} * \\frac{C_o}{C_1} $\n",
    "\n",
    "### $ при:    \\frac{P_d}{P_o} > (\\frac{P_d}{P_o})_{крит} $\n",
    "\n",
    "## $где$\n",
    "\n",
    "### $(\\frac{P_d}{P_o})_{крит} = \\frac{2}{(k + 1)}^\\frac{k}{(k - 1)}$\n",
    "\n",
    "### $Q_{крит} = \\frac{155.5 * C_d * A * P_o * C_1 * C_2}{\\gamma_g * (T + 460)}$\n",
    "\n",
    "### $A=\\frac{\\pi*d^2}{4}$\n",
    "\n",
    "### $C_1 =  ((\\frac{P_d}{P_o})_{крит}^{\\frac{2}{k}} - (\\frac{P_d}{P_o})_{крит}^{1 +\\frac{1}{k}})^ {0.5}$\n",
    "\n",
    "### $C_2 = (\\frac{2 * g * k} {k - 1})^{0.5}$\n",
    "\n",
    "### $C_o = ((\\frac{P_d}{P_o})^{\\frac{2}{k}} - (\\frac{P_d}{P_o})^{1 +\\frac{1}{k}})^ {0.5}$\n",
    "\n",
    "### $C_d = 0.865$\n",
    "\n",
    "### $g=32.17,$  $\\frac{ft}{sec^2}$\n",
    "\n",
    "### $d$ - диаметр штуцера, inch\n",
    "\n",
    "###   $P_o$ - давление до штуцера, psi\n",
    "\n",
    "###    $P_d$ - давление после штуцера, psi\n",
    "\n",
    "### $T$ - температура, $ ^{\\circ}\\mathrm{F}$ \n",
    "\n",
    "### $k$ - показатель адиабаты\n",
    "\n",
    "### $\\gamma_g$ -  относительная плотность газа"
   ]
  },
  {
   "cell_type": "code",
   "execution_count": 3,
   "metadata": {
    "collapsed": true
   },
   "outputs": [],
   "source": [
    "import numpy as np\n",
    "import matplotlib as mpl\n",
    "import matplotlib.pyplot as plt\n",
    "from sympy import *"
   ]
  },
  {
   "cell_type": "code",
   "execution_count": 1,
   "metadata": {},
   "outputs": [
    {
     "name": "stdout",
     "output_type": "stream",
     "text": [
      "177.19812863771114\n"
     ]
    }
   ],
   "source": [
    "# Расход газа через штуцер в зависимости от диаметра штуцера, давлений до и после,\n",
    "# удельной плотности газа, температуры, показателя адиабаты\n",
    "d_mm=5 # диаметр штуцера, мм\n",
    "Po_atm=15 # давление до штуцера, атм\n",
    "Pd_atm=5 # давление после штуцера, атм\n",
    "ro_g=1 # удельная плотность пара\n",
    "Tu_C=20 # температура \n",
    "k=1.3 # показатель адиабаты\n",
    "def Q_gas_valve_m3d(d_mm, Pu_atm, Pd_atm, ro_g, Tu_C):\n",
    "    d_in = d_mm * 0.03937 # диаметр штуцера, дюйм\n",
    "    Po_psi = Po_atm * 14.2233 # давление до штуцера, psi\n",
    "    Pd_psi = Pd_atm * 14.2233 # давление после штуцера, psi\n",
    "    Tu_F = Tu_C / 100 * 180 + 32 # температура, F\n",
    "    Pd_Po_crit = (2 / (k + 1)) ** (k / (k - 1)) # критическое отношение давлений до и после штуцера\n",
    "    Cd = 0.865\n",
    "    g = 32.17 # ft/sec^2 \n",
    "    C1 = (Pd_Po_crit ** (2 / k) - Pd_Po_crit ** (1 + 1 / k)) ** 0.5\n",
    "    C2 = (2 * g * k / (k - 1)) ** 0.5\n",
    "    A=3.14*d_in**2/4 # площадь\n",
    "    Qg_crit = 155.5 * Cd * A * Po_psi * C1 * C2 / (ro_g * (Tu_F + 460)) #критический расход пара\n",
    "    Pd_Po = Pd_atm / Po_atm\n",
    "    C0 = ((Pd_Po ** (2 / k) - Pd_Po ** (1 + 1 / k))) ** 0.5\n",
    "    if Pd_Po <= Pd_Po_crit: \n",
    "        Q_gas_valve_m3d = Qg_crit * 28.31993658\n",
    "    else: \n",
    "        Q_gas_valve_m3d = Qg_crit * 28.31993658 * C0 / C1\n",
    "    return Q_gas_valve_m3d\n",
    "print (Q_gas_valve_m3d(d_mm, Po_atm, Pd_atm, ro_g, Tu_C))"
   ]
  },
  {
   "cell_type": "code",
   "execution_count": 4,
   "metadata": {},
   "outputs": [
    {
     "data": {
      "image/png": "[encoded data removed]",
      "text/plain": [
       "<matplotlib.figure.Figure at 0x2a4e8daa898>"
      ]
     },
     "metadata": {},
     "output_type": "display_data"
    }
   ],
   "source": [
    "# Расход газа через штуцер в зависимости от давления после штуцера, при других постоянных параметрах\n",
    "d_mm=5 # диаметр штуцера, мм\n",
    "Po_atm=15 # давление до штуцера, атм\n",
    "ro_g=1 # удельная плотность пара\n",
    "Tu_C=20 # температура \n",
    "k=1.3 # показатель адиабаты\n",
    "Pd_atm_a = np.arange(5,15,0.1) # давление после штуцера, атм\n",
    "def Q_gas_valve_m3d(d_mm, Pu_atm, Pd_atm, ro_g, Tu_C):\n",
    "    d_in = d_mm * 0.03937 # диаметр штуцера, дюйм\n",
    "    Po_psi = Po_atm * 14.2233 # давление до штуцера, psi\n",
    "    Pd_psi = Pd_atm * 14.2233 # давление после штуцера, psi\n",
    "    Tu_F = Tu_C / 100 * 180 + 32 # температура, F\n",
    "    Pd_Po_crit = (2 / (k + 1)) ** (k / (k - 1)) # критическое отношение давлений до и после штуцера\n",
    "    Cd = 0.865\n",
    "    g = 32.17 # ft/sec^2 \n",
    "    C1 = (Pd_Po_crit ** (2 / k) - Pd_Po_crit ** (1 + 1 / k)) ** 0.5\n",
    "    C2 = (2 * g * k / (k - 1)) ** 0.5\n",
    "    A=3.14*d_in**2/4 # площадь\n",
    "    Qg_crit = 155.5 * Cd * A * Po_psi * C1 * C2 / (ro_g * (Tu_F + 460)) #критический расход пара\n",
    "    Pd_Po = Pd_atm / Po_atm\n",
    "    C0 = ((Pd_Po ** (2 / k) - Pd_Po ** (1 + 1 / k))) ** 0.5\n",
    "    if Pd_Po <= Pd_Po_crit: \n",
    "        Q_gas_valve_m3d = Qg_crit * 28.31993658\n",
    "    else: \n",
    "        Q_gas_valve_m3d = Qg_crit * 28.31993658 * C0 / C1\n",
    "    return Q_gas_valve_m3d\n",
    "qq=np.array([])\n",
    "for pd in Pd_atm_a:\n",
    "    p1=Q_gas_valve_m3d(d_mm, Po_atm, pd, ro_g, Tu_C)\n",
    "    qq=np.append(qq,p1)\n",
    "plt.plot(Pd_atm_a,qq)\n",
    "plt.title('Расход пара от давления на выходе')\n",
    "plt.xlabel('Давление на выходе, атм')\n",
    "plt.ylabel('Расход пара, м3/день')\n",
    "plt.show() "
   ]
  },
  {
   "cell_type": "code",
   "execution_count": null,
   "metadata": {
    "collapsed": true
   },
   "outputs": [],
   "source": [
    "\n"
   ]
  },
  {
   "cell_type": "code",
   "execution_count": null,
   "metadata": {
    "collapsed": true
   },
   "outputs": [],
   "source": [
    "\n"
   ]
  },
  {
   "cell_type": "code",
   "execution_count": null,
   "metadata": {
    "collapsed": true
   },
   "outputs": [],
   "source": [
    "\n",
    "    "
   ]
  },
  {
   "cell_type": "code",
   "execution_count": null,
   "metadata": {
    "collapsed": true
   },
   "outputs": [],
   "source": []
  },
  {
   "cell_type": "code",
   "execution_count": null,
   "metadata": {
    "collapsed": true
   },
   "outputs": [],
   "source": []
  },
  {
   "cell_type": "code",
   "execution_count": null,
   "metadata": {
    "collapsed": true
   },
   "outputs": [],
   "source": []
  },
  {
   "cell_type": "code",
   "execution_count": null,
   "metadata": {
    "collapsed": true
   },
   "outputs": [],
   "source": []
  }
 ],
 "metadata": {
  "kernelspec": {
   "display_name": "Python 3",
   "language": "python",
   "name": "python3"
  },
  "language_info": {
   "codemirror_mode": {
    "name": "ipython",
    "version": 3
   },
   "file_extension": ".py",
   "mimetype": "text/x-python",
   "name": "python",
   "nbconvert_exporter": "python",
   "pygments_lexer": "ipython3",
   "version": "3.6.1"
  }
 },
 "nbformat": 4,
 "nbformat_minor": 2
}
