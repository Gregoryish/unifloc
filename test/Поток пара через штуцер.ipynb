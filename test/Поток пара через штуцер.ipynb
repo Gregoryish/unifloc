{
 "cells": [
  {
   "cell_type": "markdown",
   "metadata": {},
   "source": [
    "\n",
    "# Модель режима потока пара через штуцер\n",
    "## $ m_o={\\frac{2P_o*\\gamma}{v_o*(\\gamma-1)}*F_p^{\\frac{2}{\\gamma}}*(1-F_p)^{(\\frac{\\gamma-1}{\\gamma})}}^{0,5} $\n",
    "\n",
    "где\n",
    "\n",
    "$ v_o $ - удельный объем нагнетаемого пара\n",
    "\n",
    "$\\gamma $ - показатель адиабатического расширения\n",
    "\n",
    "$F_p$ - отношение выходного $P_d$ и входного $ P_o$ давления\n",
    "### $F_p=\\frac{P_d}{P_o}$ "
   ]
  },
  {
   "cell_type": "code",
   "execution_count": 15,
   "metadata": {
    "collapsed": true
   },
   "outputs": [],
   "source": [
    "import numpy as np\n",
    "import matplotlib as mpl\n",
    "import matplotlib.pyplot as plt\n",
    "from sympy import *"
   ]
  },
  {
   "cell_type": "code",
   "execution_count": 29,
   "metadata": {},
   "outputs": [
    {
     "name": "stdout",
     "output_type": "stream",
     "text": [
      "62.49842613413463\n"
     ]
    }
   ],
   "source": [
    "d_mm=5 # диаметр штуцера, мм\n",
    "Po_atm=5 # давление до штуцера, атм\n",
    "Pd_atm=3 # давление после штуцера, атм\n",
    "ro_g=1 \n",
    "Tu_C=2\n",
    "k=1.3\n",
    "def Q_gas_valve_m3d(d_mm, Pu_atm, Pd_atm, ro_g, Tu_C):\n",
    "    d_in = d_mm * 0.03937 # диаметр штуцера, дюйм№\n",
    "    Po_psi = Po_atm * 14.2233 # давление до штуцера, psi\n",
    "    Pd_psi = Pd_atm * 14.2233 # давление после штуцера, psi\n",
    "    Tu_F = Tu_C / 100 * 180 + 32\n",
    "    Pd_Po_crit = (2 / (k + 1)) ** (k / (k - 1))\n",
    "    Cd = 0.865\n",
    "    g = 32.17 # ft/sec^2 \n",
    "    C1 = (Pd_Po_crit ** (2 / k) - Pd_Po_crit ** (1 + 1 / k)) ** 0.5\n",
    "    C2 = (2 * g * k / (k - 1)) ** 0.5\n",
    "    A=3.14*d_in**2/4\n",
    "    Qg_crit = 155.5 * Cd * A * Po_psi * C1 * C2 / (ro_g * (Tu_F + 460))\n",
    "    Pd_Po = Pd_atm / Po_atm\n",
    "    C0 = ((Pd_Po ** (2 / k) - Pd_Po ** (1 + 1 / k))) ** 0.5\n",
    "    Q_gas_valve_m3d = Qg_crit * 28.31993658 * C0 / C1\n",
    "    return Q_gas_valve_m3d\n",
    "print (Q_gas_valve_m3d(d_mm, Pu_atm, Pd_atm, ro_g, Tu_C))"
   ]
  },
  {
   "cell_type": "code",
   "execution_count": null,
   "metadata": {
    "collapsed": true
   },
   "outputs": [],
   "source": []
  }
 ],
 "metadata": {
  "kernelspec": {
   "display_name": "Python 3",
   "language": "python",
   "name": "python3"
  },
  "language_info": {
   "codemirror_mode": {
    "name": "ipython",
    "version": 3
   },
   "file_extension": ".py",
   "mimetype": "text/x-python",
   "name": "python",
   "nbconvert_exporter": "python",
   "pygments_lexer": "ipython3",
   "version": "3.6.1"
  }
 },
 "nbformat": 4,
 "nbformat_minor": 2
}
