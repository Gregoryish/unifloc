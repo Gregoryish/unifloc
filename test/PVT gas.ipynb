{
 "cells": [
  {
   "cell_type": "markdown",
   "metadata": {},
   "source": [
    "# PVT свойства углеводородных газов\n",
    "\n",
    "<div style=\"text-align: right\"> \n",
    "версия 0.1 <br>\n",
    "Хабибуллин Ринат <br>\n",
    "28.08.2017 \n",
    "</div>\n",
    "\n",
    "\n",
    "Описание ключевые свойств углеводородных газов необходимых для проведения расчетов"
   ]
  },
  {
   "cell_type": "markdown",
   "metadata": {},
   "source": [
    "## Реальные газы\n",
    "http://petrowiki.org/Real_gases\n",
    "\n",
    "При относительно низких давлении и температуре объем занимаемым большинством реальных газов настолько велик, что что объем занимаемый молекулами газа пренебрежимо мал. Малы также и силы взаимодействия между молекулами. Поведение газов в таких условиях хорошо описывается соотношениями для [идельного газа](https://ru.wikipedia.org/wiki/%D0%98%D0%B4%D0%B5%D0%B0%D0%BB%D1%8C%D0%BD%D1%8B%D0%B9_%D0%B3%D0%B0%D0%B7 \"Википедия : Идеальный газ\"). При повышении давления и температуры расстояние между молекулами уменьшается, доля объема занимаемого молекулами, а также силы взаимодействия между ними увеличиваются и должны учитываться при проведении расчетов. Такие газы, для которые предположения идеальности не выполняются, называют [реальными газами](https://ru.wikipedia.org/wiki/%D0%A0%D0%B5%D0%B0%D0%BB%D1%8C%D0%BD%D1%8B%D0%B9_%D0%B3%D0%B0%D0%B7 \"Википедия : Реальный газ\").\n",
    "\n"
   ]
  },
  {
   "cell_type": "markdown",
   "metadata": {},
   "source": [
    "### Уравнение состояния реального газа\n",
    "\n",
    "$$\n",
    "z=\\frac{V_{real}(P,T)}{V_{ideal}(P,T)}\n",
    "$$\n",
    "\n",
    "Уравнение состояния для реального газа можно записать как \n",
    "\n",
    "$$\n",
    " pV=z \\eta RT\n",
    "$$"
   ]
  },
  {
   "cell_type": "markdown",
   "metadata": {},
   "source": [
    "## Сжимаемость газа"
   ]
  },
  {
   "cell_type": "code",
   "execution_count": 8,
   "metadata": {
    "collapsed": true
   },
   "outputs": [],
   "source": [
    "import math\n",
    "import numpy as np\n",
    "from scipy.optimize import newton"
   ]
  },
  {
   "cell_type": "code",
   "execution_count": 9,
   "metadata": {
    "collapsed": true
   },
   "outputs": [],
   "source": [
    "def PseudoPressureStanding(gg):\n",
    "    return 4.6 + 0.1 * gg - 0.258 * gg ** 2\n",
    "    \n",
    "def PseudoTemperatureStanding(gg):\n",
    "    return 93.3 + 180.0 * gg - 6.94 * gg ** 2\n",
    "\n",
    "def dranchuk_z_factor(T, p, T_cr, p_cr):\n",
    "    \"\"\"\n",
    "    dranchuk's z-factor based on the newton's method\n",
    "    \"\"\"\n",
    "    A = np.array([0.3265, -1.0700, -0.5339, 0.01569, -0.05165, 0.5475, -0.7361, \n",
    "                 0.1844, 0.1056, 0.6134, 0.7210])\n",
    "    p_r=p/p_cr  #reduced pressure\n",
    "    T_r=T/T_cr  #reduced temperature\n",
    "    if not((0.0<=p_r<30.0 and 1.0<T_r<=3.0) or (p_r<1.0 and 0.7<T_r<=1.0)): #in the article 0.2<=p_r<30 is recommended\n",
    "        print ('Warning! Temperature and pressure are out of range Dranchuck corr, p_r=', p_r, 'T_r=', T_r)\n",
    "    C1=A[0]+A[1]/T_r+A[2]/T_r**3+A[3]/T_r**4+A[4]/T_r**5\n",
    "    C2=A[5]+A[6]/T_r+A[7]/T_r**2\n",
    "    C3=A[8]*(A[6]/T_r+A[7]/T_r**2)\n",
    "    def dranchuk_eq(z):\n",
    "        rho_r=0.27*p_r/(z*T_r) #reduced density\n",
    "        return -z+1+C1*rho_r+C2*rho_r**2-C3*rho_r**5+A[9]*(1+A[10]*rho_r**2)*(rho_r**2/T_r**3)*np.exp(-A[10]*rho_r**2)\n",
    "        \n",
    "    def dranhuck_eq_deriv(z):\n",
    "        D=0.27*p_r/z\n",
    "        exp_cf=np.exp((-A[10]*D**2)/T_r**2)\n",
    "        K=2*A[9]*A[10]*(1+A[10]*D**2/T_r**2)*D**4*exp_cf/(T_r**7)\n",
    "        C1=D*(A[0]+A[1]/T_r+A[2]/T_r**3+A[3]/T_r**4+A[4]/T_r**5)/(z*T_r)\n",
    "        C2=(2*D**2)*(A[5]+A[6]/T_r+A[7]/T_r**2)/(z*T_r**2)\n",
    "        C3=(5*A[8]*D**5)*(A[6]/T_r+A[7]/T_r**2)/(z*T_r**5)\n",
    "        C4=A[9]*D**2*exp_cf*(2+4*A[10]*D**2/T_r**2)/(z*T_r**5)\n",
    "        return -1-C1-C2+C3-C4+K/z\n",
    "        \n",
    "    solution=newton(dranchuk_eq, 1, dranhuck_eq_deriv)\n",
    "    return solution"
   ]
  },
  {
   "cell_type": "code",
   "execution_count": 10,
   "metadata": {},
   "outputs": [
    {
     "data": {
      "text/plain": [
       "0.96738929184997624"
      ]
     },
     "execution_count": 10,
     "metadata": {},
     "output_type": "execute_result"
    }
   ],
   "source": [
    "dranchuk_z_factor(2,1,1,1)"
   ]
  },
  {
   "cell_type": "code",
   "execution_count": null,
   "metadata": {
    "collapsed": true
   },
   "outputs": [],
   "source": []
  }
 ],
 "metadata": {
  "kernelspec": {
   "display_name": "Python 3",
   "language": "python",
   "name": "python3"
  },
  "language_info": {
   "codemirror_mode": {
    "name": "ipython",
    "version": 3
   },
   "file_extension": ".py",
   "mimetype": "text/x-python",
   "name": "python",
   "nbconvert_exporter": "python",
   "pygments_lexer": "ipython3",
   "version": "3.6.0"
  }
 },
 "nbformat": 4,
 "nbformat_minor": 2
}
