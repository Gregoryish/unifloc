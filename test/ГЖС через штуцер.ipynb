{
 "cells": [
  {
   "cell_type": "code",
   "execution_count": 5,
   "metadata": {
    "collapsed": true
   },
   "outputs": [],
   "source": [
    "import numpy as np\n",
    "import matplotlib as mpl\n",
    "import matplotlib.pyplot as plt\n",
    "from sympy import *"
   ]
  },
  {
   "cell_type": "code",
   "execution_count": 18,
   "metadata": {},
   "outputs": [
    {
     "name": "stdout",
     "output_type": "stream",
     "text": [
      "1.1840826058336993\n"
     ]
    }
   ],
   "source": [
    "v1_m3kg=57.8 # удельный объем м^3/кг для пара при 20 С=57.8\n",
    "fg=1 # весовая доля газа в потоке\n",
    "fo=0 # весовая доля нефти в потоке\n",
    "fw=0 # весовая доля воды в потоке\n",
    "M_m=18 # молекулярный вес, моль пара\n",
    "z=0.999 # коэффициент сжимаемости газа\n",
    "F=1.3 #показатель адиабаты Cp/Cv\n",
    "rog_kgm3=0.01729 # плотность пара при 20 С\n",
    "roo_kgm3=800 # плотность нефти   кг/м3\n",
    "row_kgm3=1000 # плотность воды   кг/м3\n",
    "T_C=20 # температура, С\n",
    "p2_atm=14.5\n",
    "p1_atm=15\n",
    "d1_mm=100 #диаметр трубы до штуцера\n",
    "d2_mm=5 #диаметр штуцера\n",
    "def wi_m3d(p1_atm, v1_m3kg, T_C):\n",
    "    g_c=32.17 #(lbm-ft)/(lbf-second^2)\n",
    "    roo=roo_kgm3*0.062428 # плотность нефти  Ibm/ft3\n",
    "    row=row_kgm3*0.062428 # плотность воды  Ibm/ft3\n",
    "    gamma_o=141.5/roo_kgm3/1000-131.5 #плотность нефти, API\n",
    "    T_F=T_C / 100 * 180 + 32 # температура, F\n",
    "    R_ftIbtlbmmolR=1545.348 # универсальная газовая постоянная  (ft-Ibf)/(lbm mol-R)\n",
    "    Cvg=z*R_ftIbtlbmmolR/(M_m*(F-1)) # теплоемкость при постоянном объеме для газа (ft-Ibf)/(lbm- OF)\n",
    "    Cvo=778*((0.355+0.00176*gamma_o)+(0.0051+1.167*gamma_o/100000)*T_F) #  теплоемкость при постоянном объеме для нефти (ft-Ibf)/(lbm- OF)\n",
    "    Cvw=779.912 # теплоемкость при постоянном объеме для воды 4.176 кДж/кгК= 4.176*0,24*778.169=(ft-Ibf)/(lbm- OF)\n",
    "    p1_psia=p1_atm*14.2233\n",
    "    p2_psia=p2_atm*14.2233\n",
    "    d1_ft=d1_mm/304.8\n",
    "    d2_ft=d2_mm/304.8\n",
    "    v1_ft3lbm=v1_m3kg*16.01845\n",
    "    alf=(1/v1_ft3lbm)*(fo/roo+fw/row)\n",
    "    pr=p2_psia/p1_psia\n",
    "    A1_ft2=3.14*d1_ft**2/4\n",
    "    A2_ft2=3.14*d2_ft**2/4\n",
    "    n=(fg*F*Cvg+fo*Cvo+fw*Cvw)/(fg*Cvg+fo*Cvo+fw*Cvw)\n",
    "    lambd=fg+((fg*Cvg+fo*Cvo+fw*Cvw)*M_m/(z*R_ftIbtlbmmolR))\n",
    "    Ab=(lambd*(1-pr**((n-1)/n))+alf*(1-pr))/((1-((A2_ft2/A1_ft2)**2)*((fg+alf)/((fg*pr**(-1/n))+alf))**2)*((fg*pr**(-1/n))+alf)**2)\n",
    "    wi_lbmsec=A2_ft2*((288*g_c*p1_psia/v1_ft3lbm)*Ab)**0.5\n",
    "    wi_kgsec=wi_lbmsec*0.45359 # перевод в кг/с\n",
    "    wi_m3d=wi_kgsec*86400*(fg*rog_kgm3+fo*roo_kgm3+fw*row_kgm3) #перевод в м3/сут\n",
    "    return wi_m3d\n",
    "print(wi_m3d(p1_atm, v1_m3kg, T_C))"
   ]
  },
  {
   "cell_type": "code",
   "execution_count": null,
   "metadata": {
    "collapsed": true
   },
   "outputs": [],
   "source": [
    "\n"
   ]
  },
  {
   "cell_type": "code",
   "execution_count": null,
   "metadata": {
    "collapsed": true
   },
   "outputs": [],
   "source": []
  }
 ],
 "metadata": {
  "kernelspec": {
   "display_name": "Python 3",
   "language": "python",
   "name": "python3"
  },
  "language_info": {
   "codemirror_mode": {
    "name": "ipython",
    "version": 3
   },
   "file_extension": ".py",
   "mimetype": "text/x-python",
   "name": "python",
   "nbconvert_exporter": "python",
   "pygments_lexer": "ipython3",
   "version": "3.6.1"
  }
 },
 "nbformat": 4,
 "nbformat_minor": 2
}
