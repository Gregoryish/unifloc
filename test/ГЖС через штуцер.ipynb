{
 "cells": [
  {
   "cell_type": "code",
   "execution_count": 5,
   "metadata": {
    "collapsed": true
   },
   "outputs": [],
   "source": [
    "import numpy as np\n",
    "import matplotlib as mpl\n",
    "import matplotlib.pyplot as plt\n",
    "from sympy import *"
   ]
  },
  {
   "cell_type": "code",
   "execution_count": 47,
   "metadata": {},
   "outputs": [
    {
     "name": "stdout",
     "output_type": "stream",
     "text": [
      "168.948190083513\n"
     ]
    }
   ],
   "source": [
    "g_c=32.2 #(lbm-ft)/(lbf-second^2)\n",
    "v1_m3kg=1 # удельный объем м^3/кг\n",
    "fg=0.1 # весовая доля газа в потоке\n",
    "fo=0.5 # весовая доля нефти в потоке\n",
    "fw=0.4 # весовая доля воды в потоке\n",
    "M_m=29 # молекулярный вес, моль\n",
    "z=0.999 # коэффициент сжимаемости газа\n",
    "gamma_o=45 #плотность нефти API\n",
    "F=1.4 #показатель адиабаты Cp/Cv\n",
    "T=200 \n",
    "Cvg=z*R_ftIbtlbmmolR/(M_m*(F-1)) # ???? теплоемкость при постоянном объеме для газа (ft-Ibf)/(lbm- OF)\n",
    "Cvo=778*((0.355+0.00176*gamma_o)+(0.0051+1.167*gamma_o/100000)*T) #  теплоемкость при постоянном объеме для нефти (ft-Ibf)/(lbm- OF)\n",
    "Cvw=4176 # ???? теплоемкость при постоянном объеме для воды (ft-Ibf)/(lbm- OF)\n",
    "R_ftIbtlbmmolR=1 # ???? универсальная газовая постоянная  (ft-Ibt)/(lbm mol-R)\n",
    "roo=1 # плотность нефти  Ibm/ft3\n",
    "row=1 # плотность воды  Ibm/ft3\n",
    "p2_psia=10\n",
    "p1_atm=1\n",
    "d1_mm=30 #диаметр трубы до штуцера\n",
    "d2_mm=5 #диаметр штуцера\n",
    "def wi_lbmsec(p1_atm, v1_m3kg):\n",
    "    p1_psia=p1_atm*14.2233\n",
    "    d1_ft=d1_mm/304.8\n",
    "    d2_ft=d2_mm/304.8\n",
    "    v1_ft3lbm=v1_m3kg*16.01845\n",
    "    alf=(1/v1_ft3lbm)*(fo/roo+fw/row)\n",
    "    pr=p2_psia/p1_psia\n",
    "    A1_ft2=3.14*d1_ft**2/4\n",
    "    A2_ft2=3.14*d2_ft**2/4\n",
    "    n=(fg*F*Cvg+fo*Cvo+fw*Cvw)/(fg*Cvg+fo*Cvo+fw*Cvw)\n",
    "    lambd=fg+((fg*Cvg+fo*Cvo+fw*Cvw)*M_m/(z*R_ftIbtlbmmolR))\n",
    "    Ab=(lambd*(1-pr**((n-1)/n))+alf*(1-pr))/((1-((A2/A1)**2)*((fg+alf)/((fg*pr**(-1/n))+alf))**2)*((fg*pr**(-1/n))+alf)**2)\n",
    "    wi_lbmsec=A2*((288*g_c*p1_psia/v1_ft3lbm)*Ab)**0.5\n",
    "    return wi_lbmsec\n",
    "print(wi_lbmsec(p1_atm, v1_m3kg))"
   ]
  },
  {
   "cell_type": "code",
   "execution_count": null,
   "metadata": {},
   "outputs": [],
   "source": []
  },
  {
   "cell_type": "code",
   "execution_count": null,
   "metadata": {
    "collapsed": true
   },
   "outputs": [],
   "source": []
  }
 ],
 "metadata": {
  "kernelspec": {
   "display_name": "Python 3",
   "language": "python",
   "name": "python3"
  },
  "language_info": {
   "codemirror_mode": {
    "name": "ipython",
    "version": 3
   },
   "file_extension": ".py",
   "mimetype": "text/x-python",
   "name": "python",
   "nbconvert_exporter": "python",
   "pygments_lexer": "ipython3",
   "version": "3.6.1"
  }
 },
 "nbformat": 4,
 "nbformat_minor": 2
}
