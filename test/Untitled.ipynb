{
 "cells": [
  {
   "cell_type": "code",
   "execution_count": 1,
   "metadata": {
    "collapsed": true
   },
   "outputs": [],
   "source": [
    "import numpy as np\n",
    "import matplotlib as mpl\n",
    "import matplotlib.pyplot as plt\n",
    "from sympy import *"
   ]
  },
  {
   "cell_type": "code",
   "execution_count": 8,
   "metadata": {},
   "outputs": [],
   "source": [
    "ro_po=1\n",
    "gamma_gassp=1\n",
    "gamma_oil=2\n",
    "rs_scfstb=1\n",
    "gamma_gas=1\n",
    "ro_a=1\n",
    "epsilon = 0.000001\n",
    "maxiter = 100  # максимальное число иттераций\n",
    "counter = 0\n",
    "ro_po_current = ro_po\n",
    "ro_po_previous = 0\n",
    "   # TODO в идеале нужно также как для z-фактора сделать через scipy а не через цикл\n",
    "while abs(ro_po_current - ro_po_previous) > epsilon and counter < maxiter:\n",
    "    ro_po_previous = ro_po_current\n",
    "    ro_a = -49.8930 + 85.0149 * gamma_gassp - 3.70373 * gamma_gassp * ro_po +0.0479818 * gamma_gassp * ro_po ** 2 + 2.98914 * ro_po - 0.0356888 * ro_po ** 2\n",
    "    ro_po = (rs_scfstb * gamma_gas + 4600 * gamma_oil) / (73.71 + rs_scfstb * gamma_gas / ro_a)\n",
    "    ro_po_current = ro_po\n",
    "    counter = counter + 1"
   ]
  },
  {
   "cell_type": "code",
   "execution_count": 10,
   "metadata": {},
   "outputs": [
    {
     "name": "stdout",
     "output_type": "stream",
     "text": [
      "3\n"
     ]
    }
   ],
   "source": [
    "a=1\n",
    "b=7\n",
    "while (b-a)!=2:\n",
    "    b=b-1\n",
    "print(b)"
   ]
  },
  {
   "cell_type": "code",
   "execution_count": 17,
   "metadata": {},
   "outputs": [
    {
     "name": "stdout",
     "output_type": "stream",
     "text": [
      "10\n"
     ]
    }
   ],
   "source": [
    "X=10\n",
    "i=0\n",
    "while abs(X-10)>0.01 and i<10:\n",
    "    F1=X-2\n",
    "    F2=X+4\n",
    "    X=X-F1/F2\n",
    "    i=i+1\n",
    "print(X)"
   ]
  },
  {
   "cell_type": "code",
   "execution_count": null,
   "metadata": {
    "collapsed": true
   },
   "outputs": [],
   "source": []
  }
 ],
 "metadata": {
  "kernelspec": {
   "display_name": "Python 3",
   "language": "python",
   "name": "python3"
  },
  "language_info": {
   "codemirror_mode": {
    "name": "ipython",
    "version": 3
   },
   "file_extension": ".py",
   "mimetype": "text/x-python",
   "name": "python",
   "nbconvert_exporter": "python",
   "pygments_lexer": "ipython3",
   "version": "3.6.1"
  }
 },
 "nbformat": 4,
 "nbformat_minor": 2
}
